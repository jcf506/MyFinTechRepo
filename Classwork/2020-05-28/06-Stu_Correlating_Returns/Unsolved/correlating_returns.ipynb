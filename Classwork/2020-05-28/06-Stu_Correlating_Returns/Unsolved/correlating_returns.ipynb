{
 "cells": [
  {
   "cell_type": "markdown",
   "metadata": {},
   "source": [
    "# Correlating Returns"
   ]
  },
  {
   "cell_type": "code",
   "execution_count": 2,
   "metadata": {
    "scrolled": true
   },
   "outputs": [],
   "source": [
    "import alpaca_trade_api as tradeapi\n",
    "import pandas as pd\n",
    "from newsapi.newsapi_client import NewsApiClient\n",
    "from datetime import date, datetime, timedelta\n",
    "import os\n",
    "#from dotenv import load_dotenv\n",
    "from nltk.sentiment.vader import SentimentIntensityAnalyzer"
   ]
  },
  {
   "cell_type": "markdown",
   "metadata": {},
   "source": [
    "## Load API Keys from Environment Variables"
   ]
  },
  {
   "cell_type": "code",
   "execution_count": 4,
   "metadata": {},
   "outputs": [],
   "source": [
    "# Load .env enviroment variables\n",
    "#load_dotenv()\n",
    "\n",
    "# Set News API Key\n",
    "newsapi = NewsApiClient(api_key=os.environ[\"NEWS_API_KEY\"])\n",
    "\n",
    "# Set Alpaca API key and secret\n",
    "alpaca_api_key = os.getenv(\"ALPACA_API_KEY\")\n",
    "alpaca_secret_key = os.getenv(\"ALPACA_SECRET_KEY\")\n",
    "\n",
    "api = tradeapi.REST(alpaca_api_key, alpaca_secret_key, api_version='v2')"
   ]
  },
  {
   "cell_type": "markdown",
   "metadata": {},
   "source": [
    "## Get AAPL Returns for Past Month"
   ]
  },
  {
   "cell_type": "code",
   "execution_count": 5,
   "metadata": {
    "scrolled": true
   },
   "outputs": [
    {
     "data": {
      "text/html": [
       "<div>\n",
       "<style scoped>\n",
       "    .dataframe tbody tr th:only-of-type {\n",
       "        vertical-align: middle;\n",
       "    }\n",
       "\n",
       "    .dataframe tbody tr th {\n",
       "        vertical-align: top;\n",
       "    }\n",
       "\n",
       "    .dataframe thead tr th {\n",
       "        text-align: left;\n",
       "    }\n",
       "\n",
       "    .dataframe thead tr:last-of-type th {\n",
       "        text-align: right;\n",
       "    }\n",
       "</style>\n",
       "<table border=\"1\" class=\"dataframe\">\n",
       "  <thead>\n",
       "    <tr>\n",
       "      <th></th>\n",
       "      <th colspan=\"5\" halign=\"left\">AAPL</th>\n",
       "    </tr>\n",
       "    <tr>\n",
       "      <th></th>\n",
       "      <th>open</th>\n",
       "      <th>high</th>\n",
       "      <th>low</th>\n",
       "      <th>close</th>\n",
       "      <th>volume</th>\n",
       "    </tr>\n",
       "    <tr>\n",
       "      <th>time</th>\n",
       "      <th></th>\n",
       "      <th></th>\n",
       "      <th></th>\n",
       "      <th></th>\n",
       "      <th></th>\n",
       "    </tr>\n",
       "  </thead>\n",
       "  <tbody>\n",
       "    <tr>\n",
       "      <th>2020-01-06 00:00:00-05:00</th>\n",
       "      <td>293.79</td>\n",
       "      <td>299.9600</td>\n",
       "      <td>292.750</td>\n",
       "      <td>299.78</td>\n",
       "      <td>27487207</td>\n",
       "    </tr>\n",
       "    <tr>\n",
       "      <th>2020-01-07 00:00:00-05:00</th>\n",
       "      <td>299.84</td>\n",
       "      <td>300.9000</td>\n",
       "      <td>297.480</td>\n",
       "      <td>298.27</td>\n",
       "      <td>23877417</td>\n",
       "    </tr>\n",
       "    <tr>\n",
       "      <th>2020-01-08 00:00:00-05:00</th>\n",
       "      <td>297.16</td>\n",
       "      <td>304.4399</td>\n",
       "      <td>297.156</td>\n",
       "      <td>303.15</td>\n",
       "      <td>29547763</td>\n",
       "    </tr>\n",
       "    <tr>\n",
       "      <th>2020-01-09 00:00:00-05:00</th>\n",
       "      <td>307.25</td>\n",
       "      <td>310.4300</td>\n",
       "      <td>306.200</td>\n",
       "      <td>309.71</td>\n",
       "      <td>39240341</td>\n",
       "    </tr>\n",
       "    <tr>\n",
       "      <th>2020-01-10 00:00:00-05:00</th>\n",
       "      <td>310.60</td>\n",
       "      <td>312.6700</td>\n",
       "      <td>308.250</td>\n",
       "      <td>310.37</td>\n",
       "      <td>32981826</td>\n",
       "    </tr>\n",
       "  </tbody>\n",
       "</table>\n",
       "</div>"
      ],
      "text/plain": [
       "                             AAPL                                     \n",
       "                             open      high      low   close    volume\n",
       "time                                                                  \n",
       "2020-01-06 00:00:00-05:00  293.79  299.9600  292.750  299.78  27487207\n",
       "2020-01-07 00:00:00-05:00  299.84  300.9000  297.480  298.27  23877417\n",
       "2020-01-08 00:00:00-05:00  297.16  304.4399  297.156  303.15  29547763\n",
       "2020-01-09 00:00:00-05:00  307.25  310.4300  306.200  309.71  39240341\n",
       "2020-01-10 00:00:00-05:00  310.60  312.6700  308.250  310.37  32981826"
      ]
     },
     "execution_count": 5,
     "metadata": {},
     "output_type": "execute_result"
    }
   ],
   "source": [
    "# Set the ticker\n",
    "ticker = \"AAPL\"\n",
    "\n",
    "# Set timeframe to '1D'\n",
    "timeframe = '1D'\n",
    "\n",
    "# Get current date and the date from one month ago\n",
    "current_date = date.today()\n",
    "past_date = date.today() - timedelta(weeks=4)\n",
    "\n",
    "# Get 4 weeks worth of historical data for AAPL\n",
    "df = api.get_barset(\n",
    "    ticker,\n",
    "    timeframe,\n",
    "    limit=None,\n",
    "    start=current_date,\n",
    "    end=past_date,\n",
    "    after=None,\n",
    "    until=None,\n",
    ").df\n",
    "\n",
    "df.head()"
   ]
  },
  {
   "cell_type": "code",
   "execution_count": 6,
   "metadata": {
    "scrolled": true
   },
   "outputs": [
    {
     "data": {
      "text/html": [
       "<div>\n",
       "<style scoped>\n",
       "    .dataframe tbody tr th:only-of-type {\n",
       "        vertical-align: middle;\n",
       "    }\n",
       "\n",
       "    .dataframe tbody tr th {\n",
       "        vertical-align: top;\n",
       "    }\n",
       "\n",
       "    .dataframe thead th {\n",
       "        text-align: right;\n",
       "    }\n",
       "</style>\n",
       "<table border=\"1\" class=\"dataframe\">\n",
       "  <thead>\n",
       "    <tr style=\"text-align: right;\">\n",
       "      <th></th>\n",
       "      <th>close</th>\n",
       "    </tr>\n",
       "  </thead>\n",
       "  <tbody>\n",
       "    <tr>\n",
       "      <th>2020-01-06</th>\n",
       "      <td>299.78</td>\n",
       "    </tr>\n",
       "    <tr>\n",
       "      <th>2020-01-07</th>\n",
       "      <td>298.27</td>\n",
       "    </tr>\n",
       "    <tr>\n",
       "      <th>2020-01-08</th>\n",
       "      <td>303.15</td>\n",
       "    </tr>\n",
       "    <tr>\n",
       "      <th>2020-01-09</th>\n",
       "      <td>309.71</td>\n",
       "    </tr>\n",
       "    <tr>\n",
       "      <th>2020-01-10</th>\n",
       "      <td>310.37</td>\n",
       "    </tr>\n",
       "  </tbody>\n",
       "</table>\n",
       "</div>"
      ],
      "text/plain": [
       "             close\n",
       "2020-01-06  299.78\n",
       "2020-01-07  298.27\n",
       "2020-01-08  303.15\n",
       "2020-01-09  309.71\n",
       "2020-01-10  310.37"
      ]
     },
     "execution_count": 6,
     "metadata": {},
     "output_type": "execute_result"
    }
   ],
   "source": [
    "# Drop Outer Table Level\n",
    "df = df.droplevel(axis=1, level=0)\n",
    "\n",
    "# Use the drop function to drop extra columns\n",
    "df.drop(columns=['open', 'high', 'low', 'volume'], inplace=True)\n",
    "\n",
    "# Since this is daily data, we can keep only the date (remove the time) component of the data\n",
    "df.index = df.index.date\n",
    "\n",
    "df.head()"
   ]
  },
  {
   "cell_type": "code",
   "execution_count": 7,
   "metadata": {},
   "outputs": [
    {
     "data": {
      "text/html": [
       "<div>\n",
       "<style scoped>\n",
       "    .dataframe tbody tr th:only-of-type {\n",
       "        vertical-align: middle;\n",
       "    }\n",
       "\n",
       "    .dataframe tbody tr th {\n",
       "        vertical-align: top;\n",
       "    }\n",
       "\n",
       "    .dataframe thead th {\n",
       "        text-align: right;\n",
       "    }\n",
       "</style>\n",
       "<table border=\"1\" class=\"dataframe\">\n",
       "  <thead>\n",
       "    <tr style=\"text-align: right;\">\n",
       "      <th></th>\n",
       "      <th>close</th>\n",
       "    </tr>\n",
       "  </thead>\n",
       "  <tbody>\n",
       "    <tr>\n",
       "      <th>2020-01-06</th>\n",
       "      <td>NaN</td>\n",
       "    </tr>\n",
       "    <tr>\n",
       "      <th>2020-01-07</th>\n",
       "      <td>-0.005037</td>\n",
       "    </tr>\n",
       "    <tr>\n",
       "      <th>2020-01-08</th>\n",
       "      <td>0.016361</td>\n",
       "    </tr>\n",
       "    <tr>\n",
       "      <th>2020-01-09</th>\n",
       "      <td>0.021639</td>\n",
       "    </tr>\n",
       "    <tr>\n",
       "      <th>2020-01-10</th>\n",
       "      <td>0.002131</td>\n",
       "    </tr>\n",
       "  </tbody>\n",
       "</table>\n",
       "</div>"
      ],
      "text/plain": [
       "               close\n",
       "2020-01-06       NaN\n",
       "2020-01-07 -0.005037\n",
       "2020-01-08  0.016361\n",
       "2020-01-09  0.021639\n",
       "2020-01-10  0.002131"
      ]
     },
     "execution_count": 7,
     "metadata": {},
     "output_type": "execute_result"
    }
   ],
   "source": [
    "# Use the `pct_change` function to calculate daily returns of AAPL\n",
    "aapl_returns = df.pct_change()\n",
    "aapl_returns.head()"
   ]
  },
  {
   "cell_type": "code",
   "execution_count": 8,
   "metadata": {},
   "outputs": [],
   "source": [
    "# Use newsapi client to get most relevant 20 headlines per day in the past month\n",
    "def get_headlines(keyword):\n",
    "    all_headlines = []\n",
    "    all_dates = []\n",
    "    date = current_date\n",
    "    print(f\"Fetching news about '{keyword}'\")\n",
    "    print(\"*\" * 30)\n",
    "    while date > past_date:\n",
    "        print(f\"retrieving news from: {date}\")\n",
    "        articles = newsapi.get_everything(\n",
    "            q=keyword,\n",
    "            from_param=str(date),\n",
    "            to=str(date),\n",
    "            language=\"en\",\n",
    "            sort_by=\"relevancy\",\n",
    "            page=1,\n",
    "        )\n",
    "        headlines = []\n",
    "        for i in range(0, len(articles[\"articles\"])):\n",
    "            headlines.append(articles[\"articles\"][i][\"title\"])\n",
    "        all_headlines.append(headlines)\n",
    "        all_dates.append(date)\n",
    "        date = date - timedelta(days=1)\n",
    "    return all_headlines, all_dates\n",
    "\n"
   ]
  },
  {
   "cell_type": "code",
   "execution_count": 9,
   "metadata": {},
   "outputs": [
    {
     "name": "stdout",
     "output_type": "stream",
     "text": [
      "Fetching news about 'apple'\n",
      "******************************\n",
      "retrieving news from: 2020-05-28\n",
      "retrieving news from: 2020-05-27\n",
      "retrieving news from: 2020-05-26\n",
      "retrieving news from: 2020-05-25\n",
      "retrieving news from: 2020-05-24\n",
      "retrieving news from: 2020-05-23\n",
      "retrieving news from: 2020-05-22\n",
      "retrieving news from: 2020-05-21\n",
      "retrieving news from: 2020-05-20\n",
      "retrieving news from: 2020-05-19\n",
      "retrieving news from: 2020-05-18\n",
      "retrieving news from: 2020-05-17\n",
      "retrieving news from: 2020-05-16\n",
      "retrieving news from: 2020-05-15\n",
      "retrieving news from: 2020-05-14\n",
      "retrieving news from: 2020-05-13\n",
      "retrieving news from: 2020-05-12\n",
      "retrieving news from: 2020-05-11\n",
      "retrieving news from: 2020-05-10\n",
      "retrieving news from: 2020-05-09\n",
      "retrieving news from: 2020-05-08\n",
      "retrieving news from: 2020-05-07\n",
      "retrieving news from: 2020-05-06\n",
      "retrieving news from: 2020-05-05\n",
      "retrieving news from: 2020-05-04\n",
      "retrieving news from: 2020-05-03\n",
      "retrieving news from: 2020-05-02\n",
      "retrieving news from: 2020-05-01\n"
     ]
    }
   ],
   "source": [
    "# Get first topic\n",
    "aapl_headlines, dates = get_headlines(\"apple\")"
   ]
  },
  {
   "cell_type": "code",
   "execution_count": 10,
   "metadata": {},
   "outputs": [
    {
     "name": "stdout",
     "output_type": "stream",
     "text": [
      "Fetching news about 'trade'\n",
      "******************************\n",
      "retrieving news from: 2020-05-28\n",
      "retrieving news from: 2020-05-27\n",
      "retrieving news from: 2020-05-26\n",
      "retrieving news from: 2020-05-25\n",
      "retrieving news from: 2020-05-24\n",
      "retrieving news from: 2020-05-23\n",
      "retrieving news from: 2020-05-22\n",
      "retrieving news from: 2020-05-21\n",
      "retrieving news from: 2020-05-20\n",
      "retrieving news from: 2020-05-19\n",
      "retrieving news from: 2020-05-18\n",
      "retrieving news from: 2020-05-17\n",
      "retrieving news from: 2020-05-16\n",
      "retrieving news from: 2020-05-15\n",
      "retrieving news from: 2020-05-14\n",
      "retrieving news from: 2020-05-13\n",
      "retrieving news from: 2020-05-12\n",
      "retrieving news from: 2020-05-11\n",
      "retrieving news from: 2020-05-10\n",
      "retrieving news from: 2020-05-09\n",
      "retrieving news from: 2020-05-08\n",
      "retrieving news from: 2020-05-07\n",
      "retrieving news from: 2020-05-06\n",
      "retrieving news from: 2020-05-05\n",
      "retrieving news from: 2020-05-04\n",
      "retrieving news from: 2020-05-03\n",
      "retrieving news from: 2020-05-02\n",
      "retrieving news from: 2020-05-01\n"
     ]
    }
   ],
   "source": [
    "# Get second topic\n",
    "trade_headlines, _ = get_headlines(\"trade\")"
   ]
  },
  {
   "cell_type": "code",
   "execution_count": 17,
   "metadata": {},
   "outputs": [
    {
     "name": "stdout",
     "output_type": "stream",
     "text": [
      "Fetching news about 'economy'\n",
      "******************************\n",
      "retrieving news from: 2020-05-28\n",
      "retrieving news from: 2020-05-27\n",
      "retrieving news from: 2020-05-26\n",
      "retrieving news from: 2020-05-25\n",
      "retrieving news from: 2020-05-24\n",
      "retrieving news from: 2020-05-23\n",
      "retrieving news from: 2020-05-22\n",
      "retrieving news from: 2020-05-21\n",
      "retrieving news from: 2020-05-20\n",
      "retrieving news from: 2020-05-19\n",
      "retrieving news from: 2020-05-18\n",
      "retrieving news from: 2020-05-17\n",
      "retrieving news from: 2020-05-16\n",
      "retrieving news from: 2020-05-15\n",
      "retrieving news from: 2020-05-14\n",
      "retrieving news from: 2020-05-13\n",
      "retrieving news from: 2020-05-12\n",
      "retrieving news from: 2020-05-11\n",
      "retrieving news from: 2020-05-10\n",
      "retrieving news from: 2020-05-09\n",
      "retrieving news from: 2020-05-08\n",
      "retrieving news from: 2020-05-07\n",
      "retrieving news from: 2020-05-06\n",
      "retrieving news from: 2020-05-05\n",
      "retrieving news from: 2020-05-04\n",
      "retrieving news from: 2020-05-03\n",
      "retrieving news from: 2020-05-02\n",
      "retrieving news from: 2020-05-01\n"
     ]
    }
   ],
   "source": [
    "# Get third topic\n",
    "economy_headlines, _ = get_headlines(\"economy\")"
   ]
  },
  {
   "cell_type": "code",
   "execution_count": 18,
   "metadata": {},
   "outputs": [
    {
     "name": "stdout",
     "output_type": "stream",
     "text": [
      "Fetching news about 'iphone'\n",
      "******************************\n",
      "retrieving news from: 2020-05-28\n",
      "retrieving news from: 2020-05-27\n",
      "retrieving news from: 2020-05-26\n",
      "retrieving news from: 2020-05-25\n",
      "retrieving news from: 2020-05-24\n",
      "retrieving news from: 2020-05-23\n",
      "retrieving news from: 2020-05-22\n",
      "retrieving news from: 2020-05-21\n",
      "retrieving news from: 2020-05-20\n",
      "retrieving news from: 2020-05-19\n",
      "retrieving news from: 2020-05-18\n",
      "retrieving news from: 2020-05-17\n",
      "retrieving news from: 2020-05-16\n",
      "retrieving news from: 2020-05-15\n",
      "retrieving news from: 2020-05-14\n",
      "retrieving news from: 2020-05-13\n",
      "retrieving news from: 2020-05-12\n",
      "retrieving news from: 2020-05-11\n",
      "retrieving news from: 2020-05-10\n",
      "retrieving news from: 2020-05-09\n",
      "retrieving news from: 2020-05-08\n",
      "retrieving news from: 2020-05-07\n",
      "retrieving news from: 2020-05-06\n",
      "retrieving news from: 2020-05-05\n",
      "retrieving news from: 2020-05-04\n",
      "retrieving news from: 2020-05-03\n",
      "retrieving news from: 2020-05-02\n",
      "retrieving news from: 2020-05-01\n"
     ]
    }
   ],
   "source": [
    "# Get fourth topic\n",
    "iphone_headlines, _ = get_headlines(\"iphone\")"
   ]
  },
  {
   "cell_type": "code",
   "execution_count": 19,
   "metadata": {
    "scrolled": true
   },
   "outputs": [
    {
     "name": "stdout",
     "output_type": "stream",
     "text": [
      "Fetching news about 'gold'\n",
      "******************************\n",
      "retrieving news from: 2020-05-28\n",
      "retrieving news from: 2020-05-27\n",
      "retrieving news from: 2020-05-26\n",
      "retrieving news from: 2020-05-25\n",
      "retrieving news from: 2020-05-24\n",
      "retrieving news from: 2020-05-23\n",
      "retrieving news from: 2020-05-22\n",
      "retrieving news from: 2020-05-21\n",
      "retrieving news from: 2020-05-20\n",
      "retrieving news from: 2020-05-19\n",
      "retrieving news from: 2020-05-18\n",
      "retrieving news from: 2020-05-17\n",
      "retrieving news from: 2020-05-16\n",
      "retrieving news from: 2020-05-15\n",
      "retrieving news from: 2020-05-14\n",
      "retrieving news from: 2020-05-13\n",
      "retrieving news from: 2020-05-12\n",
      "retrieving news from: 2020-05-11\n",
      "retrieving news from: 2020-05-10\n",
      "retrieving news from: 2020-05-09\n",
      "retrieving news from: 2020-05-08\n",
      "retrieving news from: 2020-05-07\n",
      "retrieving news from: 2020-05-06\n",
      "retrieving news from: 2020-05-05\n",
      "retrieving news from: 2020-05-04\n",
      "retrieving news from: 2020-05-03\n",
      "retrieving news from: 2020-05-02\n",
      "retrieving news from: 2020-05-01\n"
     ]
    }
   ],
   "source": [
    "# Get fifth topic\n",
    "gold_headlines, _ = get_headlines(\"gold\")"
   ]
  },
  {
   "cell_type": "code",
   "execution_count": 20,
   "metadata": {},
   "outputs": [],
   "source": [
    "# Instantiate SentimentIntensityAnalyzer\n",
    "sid = SentimentIntensityAnalyzer()"
   ]
  },
  {
   "cell_type": "code",
   "execution_count": 21,
   "metadata": {},
   "outputs": [],
   "source": [
    "# Create function that computes average compound sentiment of headlines for each day\n",
    "def headline_sentiment_summarizer_avg(headlines):\n",
    "    sentiment = []\n",
    "    for day in headlines:\n",
    "        day_score = []\n",
    "        for h in day:\n",
    "            if h == None:\n",
    "                continue\n",
    "            else:\n",
    "                day_score.append(sid.polarity_scores(h)[\"compound\"])\n",
    "        sentiment.append(sum(day_score) / len(day_score))\n",
    "    return sentiment\n"
   ]
  },
  {
   "cell_type": "code",
   "execution_count": 22,
   "metadata": {},
   "outputs": [],
   "source": [
    "# Get averages of each topics sentiment\n",
    "aapl_avg = headline_sentiment_summarizer_avg(aapl_headlines)\n",
    "trade_avg = headline_sentiment_summarizer_avg(trade_headlines)\n",
    "economy_avg = headline_sentiment_summarizer_avg(economy_headlines)\n",
    "iphone_avg = headline_sentiment_summarizer_avg(iphone_headlines)\n",
    "gold_avg = headline_sentiment_summarizer_avg(gold_headlines)"
   ]
  },
  {
   "cell_type": "code",
   "execution_count": 26,
   "metadata": {},
   "outputs": [
    {
     "ename": "IndentationError",
     "evalue": "unexpected indent (<ipython-input-26-0dfd5db35d03>, line 2)",
     "output_type": "error",
     "traceback": [
      "\u001b[1;36m  File \u001b[1;32m\"<ipython-input-26-0dfd5db35d03>\"\u001b[1;36m, line \u001b[1;32m2\u001b[0m\n\u001b[1;33m    {\u001b[0m\n\u001b[1;37m    ^\u001b[0m\n\u001b[1;31mIndentationError\u001b[0m\u001b[1;31m:\u001b[0m unexpected indent\n"
     ]
    }
   ],
   "source": [
    "# Combtopic_sentiments = pd.DataFrame(\n",
    "    {\n",
    "        \"aapl_avg\": aapl_avg,\n",
    "        \"trade_avg\": trade_avg,\n",
    "        \"economy_avg\": economy_avg,\n",
    "        \"iphone_avg\": iphone_avg,\n",
    "        \"gold_avg\": gold_avg,\n",
    "    }\n",
    ")\n"
   ]
  },
  {
   "cell_type": "code",
   "execution_count": 27,
   "metadata": {
    "scrolled": true
   },
   "outputs": [
    {
     "ename": "NameError",
     "evalue": "name 'topic_sentiments' is not defined",
     "output_type": "error",
     "traceback": [
      "\u001b[1;31m---------------------------------------------------------------------------\u001b[0m",
      "\u001b[1;31mNameError\u001b[0m                                 Traceback (most recent call last)",
      "\u001b[1;32m<ipython-input-27-d767bb1946e7>\u001b[0m in \u001b[0;36m<module>\u001b[1;34m\u001b[0m\n\u001b[0;32m      1\u001b[0m \u001b[1;31m# Set the index value of the sentiment average DataFrame to be the series of dates.\u001b[0m\u001b[1;33m\u001b[0m\u001b[1;33m\u001b[0m\u001b[1;33m\u001b[0m\u001b[0m\n\u001b[1;32m----> 2\u001b[1;33m \u001b[0mtopic_sentiments\u001b[0m\u001b[1;33m.\u001b[0m\u001b[0mindex\u001b[0m \u001b[1;33m=\u001b[0m \u001b[0mpd\u001b[0m\u001b[1;33m.\u001b[0m\u001b[0mto_datetime\u001b[0m\u001b[1;33m(\u001b[0m\u001b[0mdates\u001b[0m\u001b[1;33m)\u001b[0m\u001b[1;33m\u001b[0m\u001b[1;33m\u001b[0m\u001b[0m\n\u001b[0m",
      "\u001b[1;31mNameError\u001b[0m: name 'topic_sentiments' is not defined"
     ]
    }
   ],
   "source": [
    "# Set the index value of the sentiment average DataFrame to be the series of dates.\n",
    "topic_sentiments.index = pd.to_datetime(dates)"
   ]
  },
  {
   "cell_type": "code",
   "execution_count": 6,
   "metadata": {
    "scrolled": true
   },
   "outputs": [],
   "source": [
    "# Merge with AAPL returns\n"
   ]
  },
  {
   "cell_type": "code",
   "execution_count": 7,
   "metadata": {},
   "outputs": [],
   "source": [
    "# Correlate the headlines' sentiment to returns\n"
   ]
  }
 ],
 "metadata": {
  "file_extension": ".py",
  "kernelspec": {
   "display_name": "Python 3",
   "language": "python",
   "name": "python3"
  },
  "language_info": {
   "codemirror_mode": {
    "name": "ipython",
    "version": 3
   },
   "file_extension": ".py",
   "mimetype": "text/x-python",
   "name": "python",
   "nbconvert_exporter": "python",
   "pygments_lexer": "ipython3",
   "version": "3.7.7"
  },
  "mimetype": "text/x-python",
  "name": "python",
  "npconvert_exporter": "python",
  "pygments_lexer": "ipython3",
  "version": 3
 },
 "nbformat": 4,
 "nbformat_minor": 4
}
