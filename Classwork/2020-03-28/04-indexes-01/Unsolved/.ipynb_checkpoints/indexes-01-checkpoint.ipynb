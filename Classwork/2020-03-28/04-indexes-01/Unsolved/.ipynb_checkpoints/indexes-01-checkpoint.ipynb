{
 "cells": [
  {
   "cell_type": "markdown",
   "metadata": {},
   "source": [
    "# Slice and Dice Pandas DataFrames via Indexes"
   ]
  },
  {
   "cell_type": "markdown",
   "metadata": {},
   "source": [
    "## 1. Import libraries and dependencies"
   ]
  },
  {
   "cell_type": "code",
   "execution_count": 16,
   "metadata": {},
   "outputs": [],
   "source": [
    "# Import libraries and dependencies\n",
    "import pandas as pd\n",
    "from pathlib import Path"
   ]
  },
  {
   "cell_type": "markdown",
   "metadata": {},
   "source": [
    "## 2. Create a Path to the File Using Pathlib"
   ]
  },
  {
   "cell_type": "code",
   "execution_count": 17,
   "metadata": {},
   "outputs": [],
   "source": [
    "# Use the Pathlib libary to set the path to the CSV\n",
    "csv_path = Path(\"../Resources/people_cleansed.csv\") "
   ]
  },
  {
   "cell_type": "markdown",
   "metadata": {},
   "source": [
    "## 3. Read the CSV into a Pandas DataFrame"
   ]
  },
  {
   "cell_type": "code",
   "execution_count": 18,
   "metadata": {},
   "outputs": [
    {
     "data": {
      "text/html": [
       "<div>\n",
       "<style scoped>\n",
       "    .dataframe tbody tr th:only-of-type {\n",
       "        vertical-align: middle;\n",
       "    }\n",
       "\n",
       "    .dataframe tbody tr th {\n",
       "        vertical-align: top;\n",
       "    }\n",
       "\n",
       "    .dataframe thead th {\n",
       "        text-align: right;\n",
       "    }\n",
       "</style>\n",
       "<table border=\"1\" class=\"dataframe\">\n",
       "  <thead>\n",
       "    <tr style=\"text-align: right;\">\n",
       "      <th></th>\n",
       "      <th>Person_ID</th>\n",
       "      <th>Last_Name</th>\n",
       "      <th>First_Name</th>\n",
       "      <th>Gender</th>\n",
       "      <th>University</th>\n",
       "      <th>Occupation</th>\n",
       "      <th>Salary</th>\n",
       "      <th>Email</th>\n",
       "      <th>Age</th>\n",
       "    </tr>\n",
       "  </thead>\n",
       "  <tbody>\n",
       "    <tr>\n",
       "      <th>0</th>\n",
       "      <td>1</td>\n",
       "      <td>Lenormand</td>\n",
       "      <td>Keriann</td>\n",
       "      <td>Female</td>\n",
       "      <td>Aurora University</td>\n",
       "      <td>Nurse Practicioner</td>\n",
       "      <td>58135.0</td>\n",
       "      <td>klenormand0@businessinsider.com</td>\n",
       "      <td>27</td>\n",
       "    </tr>\n",
       "    <tr>\n",
       "      <th>1</th>\n",
       "      <td>2</td>\n",
       "      <td>Rupke</td>\n",
       "      <td>Huntley</td>\n",
       "      <td>Male</td>\n",
       "      <td>Osaka University of Economics</td>\n",
       "      <td>Project Manager</td>\n",
       "      <td>96053.0</td>\n",
       "      <td>hrupke1@reuters.com</td>\n",
       "      <td>22</td>\n",
       "    </tr>\n",
       "    <tr>\n",
       "      <th>2</th>\n",
       "      <td>3</td>\n",
       "      <td>Dalgarnowch</td>\n",
       "      <td>Gorden</td>\n",
       "      <td>Male</td>\n",
       "      <td>Ludong University</td>\n",
       "      <td>Environmental Tech</td>\n",
       "      <td>59196.0</td>\n",
       "      <td>gdalgarnowch2@microsoft.com</td>\n",
       "      <td>40</td>\n",
       "    </tr>\n",
       "    <tr>\n",
       "      <th>3</th>\n",
       "      <td>4</td>\n",
       "      <td>Unnamed</td>\n",
       "      <td>Cullie</td>\n",
       "      <td>Male</td>\n",
       "      <td>Université des Sciences et de la Technologie d...</td>\n",
       "      <td>Legal Assistant</td>\n",
       "      <td>88493.0</td>\n",
       "      <td>cputten3@nymag.com</td>\n",
       "      <td>62</td>\n",
       "    </tr>\n",
       "    <tr>\n",
       "      <th>4</th>\n",
       "      <td>5</td>\n",
       "      <td>Strangman</td>\n",
       "      <td>Ariel</td>\n",
       "      <td>Female</td>\n",
       "      <td>Boise State University</td>\n",
       "      <td>Project Manager</td>\n",
       "      <td>89073.0</td>\n",
       "      <td>astrangman4@bravesites.com</td>\n",
       "      <td>47</td>\n",
       "    </tr>\n",
       "  </tbody>\n",
       "</table>\n",
       "</div>"
      ],
      "text/plain": [
       "   Person_ID    Last_Name First_Name  Gender  \\\n",
       "0          1    Lenormand    Keriann  Female   \n",
       "1          2        Rupke    Huntley    Male   \n",
       "2          3  Dalgarnowch     Gorden    Male   \n",
       "3          4      Unnamed     Cullie    Male   \n",
       "4          5    Strangman      Ariel  Female   \n",
       "\n",
       "                                          University          Occupation  \\\n",
       "0                                  Aurora University  Nurse Practicioner   \n",
       "1                      Osaka University of Economics     Project Manager   \n",
       "2                                  Ludong University  Environmental Tech   \n",
       "3  Université des Sciences et de la Technologie d...     Legal Assistant   \n",
       "4                             Boise State University     Project Manager   \n",
       "\n",
       "    Salary                            Email  Age  \n",
       "0  58135.0  klenormand0@businessinsider.com   27  \n",
       "1  96053.0              hrupke1@reuters.com   22  \n",
       "2  59196.0      gdalgarnowch2@microsoft.com   40  \n",
       "3  88493.0               cputten3@nymag.com   62  \n",
       "4  89073.0       astrangman4@bravesites.com   47  "
      ]
     },
     "execution_count": 18,
     "metadata": {},
     "output_type": "execute_result"
    }
   ],
   "source": [
    "# Read in the CSV as a DataFrame\n",
    "people_csv = pd.read_csv(csv_path)\n",
    "people_csv.head()"
   ]
  },
  {
   "cell_type": "markdown",
   "metadata": {},
   "source": [
    "## 4. Index Selection with iloc"
   ]
  },
  {
   "cell_type": "markdown",
   "metadata": {},
   "source": [
    "### 1. Select First Row with iloc"
   ]
  },
  {
   "cell_type": "code",
   "execution_count": 34,
   "metadata": {},
   "outputs": [
    {
     "data": {
      "text/plain": [
       "<pandas.core.indexing._iLocIndexer at 0x1d3bdb1aef8>"
      ]
     },
     "execution_count": 34,
     "metadata": {},
     "output_type": "execute_result"
    }
   ],
   "source": [
    "# Select the first row of the DataFrame\n",
    "people_csv.iloc(0)"
   ]
  },
  {
   "cell_type": "markdown",
   "metadata": {},
   "source": [
    "### 2. Select First 10 Rows Using Index Selection with iloc"
   ]
  },
  {
   "cell_type": "code",
   "execution_count": 35,
   "metadata": {},
   "outputs": [
    {
     "data": {
      "text/html": [
       "<div>\n",
       "<style scoped>\n",
       "    .dataframe tbody tr th:only-of-type {\n",
       "        vertical-align: middle;\n",
       "    }\n",
       "\n",
       "    .dataframe tbody tr th {\n",
       "        vertical-align: top;\n",
       "    }\n",
       "\n",
       "    .dataframe thead th {\n",
       "        text-align: right;\n",
       "    }\n",
       "</style>\n",
       "<table border=\"1\" class=\"dataframe\">\n",
       "  <thead>\n",
       "    <tr style=\"text-align: right;\">\n",
       "      <th></th>\n",
       "      <th>Person_ID</th>\n",
       "      <th>Last_Name</th>\n",
       "      <th>First_Name</th>\n",
       "      <th>Gender</th>\n",
       "      <th>University</th>\n",
       "      <th>Occupation</th>\n",
       "      <th>Salary</th>\n",
       "      <th>Email</th>\n",
       "      <th>Age</th>\n",
       "    </tr>\n",
       "  </thead>\n",
       "  <tbody>\n",
       "    <tr>\n",
       "      <th>0</th>\n",
       "      <td>1</td>\n",
       "      <td>Lenormand</td>\n",
       "      <td>Keriann</td>\n",
       "      <td>Female</td>\n",
       "      <td>Aurora University</td>\n",
       "      <td>Nurse Practicioner</td>\n",
       "      <td>58135.0</td>\n",
       "      <td>klenormand0@businessinsider.com</td>\n",
       "      <td>27</td>\n",
       "    </tr>\n",
       "    <tr>\n",
       "      <th>1</th>\n",
       "      <td>2</td>\n",
       "      <td>Rupke</td>\n",
       "      <td>Huntley</td>\n",
       "      <td>Male</td>\n",
       "      <td>Osaka University of Economics</td>\n",
       "      <td>Project Manager</td>\n",
       "      <td>96053.0</td>\n",
       "      <td>hrupke1@reuters.com</td>\n",
       "      <td>22</td>\n",
       "    </tr>\n",
       "    <tr>\n",
       "      <th>2</th>\n",
       "      <td>3</td>\n",
       "      <td>Dalgarnowch</td>\n",
       "      <td>Gorden</td>\n",
       "      <td>Male</td>\n",
       "      <td>Ludong University</td>\n",
       "      <td>Environmental Tech</td>\n",
       "      <td>59196.0</td>\n",
       "      <td>gdalgarnowch2@microsoft.com</td>\n",
       "      <td>40</td>\n",
       "    </tr>\n",
       "    <tr>\n",
       "      <th>3</th>\n",
       "      <td>4</td>\n",
       "      <td>Unnamed</td>\n",
       "      <td>Cullie</td>\n",
       "      <td>Male</td>\n",
       "      <td>Université des Sciences et de la Technologie d...</td>\n",
       "      <td>Legal Assistant</td>\n",
       "      <td>88493.0</td>\n",
       "      <td>cputten3@nymag.com</td>\n",
       "      <td>62</td>\n",
       "    </tr>\n",
       "    <tr>\n",
       "      <th>4</th>\n",
       "      <td>5</td>\n",
       "      <td>Strangman</td>\n",
       "      <td>Ariel</td>\n",
       "      <td>Female</td>\n",
       "      <td>Boise State University</td>\n",
       "      <td>Project Manager</td>\n",
       "      <td>89073.0</td>\n",
       "      <td>astrangman4@bravesites.com</td>\n",
       "      <td>47</td>\n",
       "    </tr>\n",
       "    <tr>\n",
       "      <th>5</th>\n",
       "      <td>6</td>\n",
       "      <td>Snozzwell</td>\n",
       "      <td>Antonio</td>\n",
       "      <td>Male</td>\n",
       "      <td>Babcock University</td>\n",
       "      <td>Technical Writer</td>\n",
       "      <td>119916.0</td>\n",
       "      <td>asnozzwell5@mysql.com</td>\n",
       "      <td>49</td>\n",
       "    </tr>\n",
       "    <tr>\n",
       "      <th>6</th>\n",
       "      <td>7</td>\n",
       "      <td>Neathway</td>\n",
       "      <td>Darya</td>\n",
       "      <td>Female</td>\n",
       "      <td>Molloy College</td>\n",
       "      <td>Administrative Officer</td>\n",
       "      <td>77705.0</td>\n",
       "      <td>dneathway6@seesaa.net</td>\n",
       "      <td>64</td>\n",
       "    </tr>\n",
       "    <tr>\n",
       "      <th>7</th>\n",
       "      <td>8</td>\n",
       "      <td>Duding</td>\n",
       "      <td>Helaina</td>\n",
       "      <td>Female</td>\n",
       "      <td>St. Paul University</td>\n",
       "      <td>Staff Scientist</td>\n",
       "      <td>57166.0</td>\n",
       "      <td>hduding7@topsy.com</td>\n",
       "      <td>26</td>\n",
       "    </tr>\n",
       "    <tr>\n",
       "      <th>8</th>\n",
       "      <td>9</td>\n",
       "      <td>Franzolini</td>\n",
       "      <td>Gerhardine</td>\n",
       "      <td>Female</td>\n",
       "      <td>Fundação Educacional de Ituverava</td>\n",
       "      <td>Environmental Specialist</td>\n",
       "      <td>73051.0</td>\n",
       "      <td>gfranzolini8@msn.com</td>\n",
       "      <td>22</td>\n",
       "    </tr>\n",
       "    <tr>\n",
       "      <th>9</th>\n",
       "      <td>10</td>\n",
       "      <td>Traut</td>\n",
       "      <td>Charo</td>\n",
       "      <td>Female</td>\n",
       "      <td>Cornell University</td>\n",
       "      <td>Programmer III</td>\n",
       "      <td>90631.0</td>\n",
       "      <td>ctraut9@oracle.com</td>\n",
       "      <td>45</td>\n",
       "    </tr>\n",
       "  </tbody>\n",
       "</table>\n",
       "</div>"
      ],
      "text/plain": [
       "   Person_ID    Last_Name  First_Name  Gender  \\\n",
       "0          1    Lenormand     Keriann  Female   \n",
       "1          2        Rupke     Huntley    Male   \n",
       "2          3  Dalgarnowch      Gorden    Male   \n",
       "3          4      Unnamed      Cullie    Male   \n",
       "4          5    Strangman       Ariel  Female   \n",
       "5          6    Snozzwell     Antonio    Male   \n",
       "6          7     Neathway       Darya  Female   \n",
       "7          8       Duding     Helaina  Female   \n",
       "8          9   Franzolini  Gerhardine  Female   \n",
       "9         10        Traut       Charo  Female   \n",
       "\n",
       "                                          University  \\\n",
       "0                                  Aurora University   \n",
       "1                      Osaka University of Economics   \n",
       "2                                  Ludong University   \n",
       "3  Université des Sciences et de la Technologie d...   \n",
       "4                             Boise State University   \n",
       "5                                 Babcock University   \n",
       "6                                     Molloy College   \n",
       "7                                St. Paul University   \n",
       "8                  Fundação Educacional de Ituverava   \n",
       "9                                 Cornell University   \n",
       "\n",
       "                 Occupation    Salary                            Email  Age  \n",
       "0        Nurse Practicioner   58135.0  klenormand0@businessinsider.com   27  \n",
       "1           Project Manager   96053.0              hrupke1@reuters.com   22  \n",
       "2        Environmental Tech   59196.0      gdalgarnowch2@microsoft.com   40  \n",
       "3           Legal Assistant   88493.0               cputten3@nymag.com   62  \n",
       "4           Project Manager   89073.0       astrangman4@bravesites.com   47  \n",
       "5          Technical Writer  119916.0            asnozzwell5@mysql.com   49  \n",
       "6    Administrative Officer   77705.0            dneathway6@seesaa.net   64  \n",
       "7           Staff Scientist   57166.0               hduding7@topsy.com   26  \n",
       "8  Environmental Specialist   73051.0             gfranzolini8@msn.com   22  \n",
       "9            Programmer III   90631.0               ctraut9@oracle.com   45  "
      ]
     },
     "execution_count": 35,
     "metadata": {},
     "output_type": "execute_result"
    }
   ],
   "source": [
    "# Select the first 10 rows of the DataFrame\n",
    "people_csv.iloc[0:10]"
   ]
  },
  {
   "cell_type": "markdown",
   "metadata": {},
   "source": [
    "### 3. Select Last Row Using Index Selection with iloc"
   ]
  },
  {
   "cell_type": "code",
   "execution_count": 36,
   "metadata": {},
   "outputs": [
    {
     "data": {
      "text/plain": [
       "Person_ID                                       999\n",
       "Last_Name                                      Yang\n",
       "First_Name                                   Andrew\n",
       "Gender                                         Male\n",
       "University    Rutgers University School of Business\n",
       "Occupation                      Curriculum Engineer\n",
       "Salary                                        60000\n",
       "Email                          ayang@codedrills.com\n",
       "Age                                              53\n",
       "Name: 972, dtype: object"
      ]
     },
     "execution_count": 36,
     "metadata": {},
     "output_type": "execute_result"
    }
   ],
   "source": [
    "# Select the last row of the DataFrame\n",
    "people_csv.iloc[-1]"
   ]
  },
  {
   "cell_type": "markdown",
   "metadata": {},
   "source": [
    "### 4. Select Second Column Using Index Selection with iloc"
   ]
  },
  {
   "cell_type": "code",
   "execution_count": 42,
   "metadata": {},
   "outputs": [
    {
     "data": {
      "text/plain": [
       "0      Lenormand\n",
       "1          Rupke\n",
       "2    Dalgarnowch\n",
       "3        Unnamed\n",
       "4      Strangman\n",
       "Name: Last_Name, dtype: object"
      ]
     },
     "execution_count": 42,
     "metadata": {},
     "output_type": "execute_result"
    }
   ],
   "source": [
    "# Select the second column of the DataFrame\n",
    "people_csv.iloc[:,1].head()"
   ]
  },
  {
   "cell_type": "markdown",
   "metadata": {},
   "source": [
    "### 5. Select Last Column Using Index Selection with iloc"
   ]
  },
  {
   "cell_type": "code",
   "execution_count": 43,
   "metadata": {},
   "outputs": [
    {
     "data": {
      "text/plain": [
       "0      Female\n",
       "1        Male\n",
       "2        Male\n",
       "3        Male\n",
       "4      Female\n",
       "        ...  \n",
       "968    Female\n",
       "969      Male\n",
       "970    Female\n",
       "971      Male\n",
       "972      Male\n",
       "Name: Gender, Length: 973, dtype: object"
      ]
     },
     "execution_count": 43,
     "metadata": {},
     "output_type": "execute_result"
    }
   ],
   "source": [
    "# Select the last column of the DataFrame, with all rows\n",
    "people_csv.iloc[:,3]"
   ]
  },
  {
   "cell_type": "markdown",
   "metadata": {},
   "source": [
    "### 6. Select First Three Columns Using Index Selection with iloc"
   ]
  },
  {
   "cell_type": "code",
   "execution_count": 24,
   "metadata": {},
   "outputs": [],
   "source": [
    "# Select the first three columns of the DataFrame, with all rows\n"
   ]
  },
  {
   "cell_type": "markdown",
   "metadata": {},
   "source": [
    "### 7. Select Specific Rows and Columns Using Index Selection with iloc"
   ]
  },
  {
   "cell_type": "code",
   "execution_count": 25,
   "metadata": {},
   "outputs": [],
   "source": [
    "# Select the 1st, 3th, 5th, 7th rows of the 2nd, 4th, and 6th columns.\n"
   ]
  },
  {
   "cell_type": "markdown",
   "metadata": {},
   "source": [
    "### 8. Select Ranges of Rows and Columns Using Index Selection with iloc"
   ]
  },
  {
   "cell_type": "code",
   "execution_count": 26,
   "metadata": {},
   "outputs": [],
   "source": [
    "# Select the first 5 rows of the 3rd, 4th, and 5th columns of the DataFrame\n"
   ]
  },
  {
   "cell_type": "markdown",
   "metadata": {},
   "source": [
    "### 9. Assign Values to Specific Rows and Columns Using Index Assignment with iLoc"
   ]
  },
  {
   "cell_type": "code",
   "execution_count": 27,
   "metadata": {},
   "outputs": [],
   "source": [
    "# Modify the 'first_name' column value of the first row\n"
   ]
  },
  {
   "cell_type": "markdown",
   "metadata": {},
   "source": [
    "## 5. Index Selection with `loc`:"
   ]
  },
  {
   "cell_type": "markdown",
   "metadata": {},
   "source": [
    "### 1. Set Column as Pandas DataFrame Index"
   ]
  },
  {
   "cell_type": "code",
   "execution_count": 28,
   "metadata": {},
   "outputs": [],
   "source": [
    "# Set the index as the 'first_name' column\n"
   ]
  },
  {
   "cell_type": "markdown",
   "metadata": {},
   "source": [
    "### 2. Sort Pandas DataFrame by Index"
   ]
  },
  {
   "cell_type": "code",
   "execution_count": 29,
   "metadata": {},
   "outputs": [],
   "source": [
    "# Sort the index\n"
   ]
  },
  {
   "cell_type": "markdown",
   "metadata": {},
   "source": [
    "### 3. Select Specific Row with Index Selection using loc"
   ]
  },
  {
   "cell_type": "code",
   "execution_count": 30,
   "metadata": {},
   "outputs": [],
   "source": [
    "# Select the row with the index 'Even'\n"
   ]
  },
  {
   "cell_type": "markdown",
   "metadata": {},
   "source": [
    "### 4. Select Ranges of Rows with Index Selection using loc"
   ]
  },
  {
   "cell_type": "code",
   "execution_count": 31,
   "metadata": {},
   "outputs": [],
   "source": [
    "# Slice the data to output a range of rows based on the index\n"
   ]
  },
  {
   "cell_type": "markdown",
   "metadata": {},
   "source": [
    "### 5. Select Rows with Conditionals using loc"
   ]
  },
  {
   "cell_type": "code",
   "execution_count": 32,
   "metadata": {},
   "outputs": [],
   "source": [
    "# Filter rows based on a column value conditional\n"
   ]
  },
  {
   "cell_type": "markdown",
   "metadata": {},
   "source": [
    "### 6. Assign Values to Specific Rows and Columns Using Index Assignment with loc"
   ]
  },
  {
   "cell_type": "code",
   "execution_count": 33,
   "metadata": {},
   "outputs": [],
   "source": [
    "# Modify the 'first_name' value of the row with the index 'Yun'\n"
   ]
  }
 ],
 "metadata": {
  "kernelspec": {
   "display_name": "Python 3",
   "language": "python",
   "name": "python3"
  },
  "language_info": {
   "codemirror_mode": {
    "name": "ipython",
    "version": 3
   },
   "file_extension": ".py",
   "mimetype": "text/x-python",
   "name": "python",
   "nbconvert_exporter": "python",
   "pygments_lexer": "ipython3",
   "version": "3.7.6"
  }
 },
 "nbformat": 4,
 "nbformat_minor": 4
}
