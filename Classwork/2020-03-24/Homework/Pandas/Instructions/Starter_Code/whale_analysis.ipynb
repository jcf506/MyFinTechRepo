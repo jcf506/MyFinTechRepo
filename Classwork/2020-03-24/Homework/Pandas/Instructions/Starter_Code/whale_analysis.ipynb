{
 "cells": [
  {
   "cell_type": "markdown",
   "metadata": {},
   "source": [
    " #  A Whale off the Port(folio)\n",
    "\n",
    " In this assignment, you'll get to use what you've learned this week to evaluate the performance among various algorithmic, hedge, and mutual fund portfolios and compare them against the S&P 500."
   ]
  },
  {
   "cell_type": "code",
   "execution_count": 1,
   "metadata": {},
   "outputs": [],
   "source": [
    "import pandas as pd\n",
    "import numpy as np\n",
    "import datetime as dt\n",
    "from pathlib import Path\n",
    "%matplotlib inline"
   ]
  },
  {
   "cell_type": "markdown",
   "metadata": {},
   "source": [
    "# Data Cleaning\n",
    "\n",
    "In this section, you will need to read the CSV files into DataFrames and perform any necessary data cleaning steps. After cleaning, combine all DataFrames into a single DataFrame.\n",
    "\n",
    "Files:\n",
    "1. whale_returns.csv\n",
    "2. algo_returns.csv\n",
    "3. sp500_history.csv"
   ]
  },
  {
   "cell_type": "markdown",
   "metadata": {},
   "source": [
    "## Whale Returns\n",
    "\n",
    "Read the Whale Portfolio daily returns and clean the data"
   ]
  },
  {
   "cell_type": "code",
   "execution_count": 2,
   "metadata": {},
   "outputs": [
    {
     "data": {
      "text/html": [
       "<div>\n",
       "<style scoped>\n",
       "    .dataframe tbody tr th:only-of-type {\n",
       "        vertical-align: middle;\n",
       "    }\n",
       "\n",
       "    .dataframe tbody tr th {\n",
       "        vertical-align: top;\n",
       "    }\n",
       "\n",
       "    .dataframe thead th {\n",
       "        text-align: right;\n",
       "    }\n",
       "</style>\n",
       "<table border=\"1\" class=\"dataframe\">\n",
       "  <thead>\n",
       "    <tr style=\"text-align: right;\">\n",
       "      <th></th>\n",
       "      <th>SOROS FUND MANAGEMENT LLC</th>\n",
       "      <th>PAULSON &amp; CO.INC.</th>\n",
       "      <th>TIGER GLOBAL MANAGEMENT LLC</th>\n",
       "      <th>BERKSHIRE HATHAWAY INC</th>\n",
       "    </tr>\n",
       "    <tr>\n",
       "      <th>Date</th>\n",
       "      <th></th>\n",
       "      <th></th>\n",
       "      <th></th>\n",
       "      <th></th>\n",
       "    </tr>\n",
       "  </thead>\n",
       "  <tbody>\n",
       "    <tr>\n",
       "      <th>2015-03-02</th>\n",
       "      <td>NaN</td>\n",
       "      <td>NaN</td>\n",
       "      <td>NaN</td>\n",
       "      <td>NaN</td>\n",
       "    </tr>\n",
       "    <tr>\n",
       "      <th>2015-03-03</th>\n",
       "      <td>-0.001266</td>\n",
       "      <td>-0.004981</td>\n",
       "      <td>-0.000496</td>\n",
       "      <td>-0.006569</td>\n",
       "    </tr>\n",
       "    <tr>\n",
       "      <th>2015-03-04</th>\n",
       "      <td>0.002230</td>\n",
       "      <td>0.003241</td>\n",
       "      <td>-0.002534</td>\n",
       "      <td>0.004213</td>\n",
       "    </tr>\n",
       "    <tr>\n",
       "      <th>2015-03-05</th>\n",
       "      <td>0.004016</td>\n",
       "      <td>0.004076</td>\n",
       "      <td>0.002355</td>\n",
       "      <td>0.006726</td>\n",
       "    </tr>\n",
       "    <tr>\n",
       "      <th>2015-03-06</th>\n",
       "      <td>-0.007905</td>\n",
       "      <td>-0.003574</td>\n",
       "      <td>-0.008481</td>\n",
       "      <td>-0.013098</td>\n",
       "    </tr>\n",
       "    <tr>\n",
       "      <th>2015-03-09</th>\n",
       "      <td>0.000582</td>\n",
       "      <td>0.004225</td>\n",
       "      <td>0.005843</td>\n",
       "      <td>-0.001652</td>\n",
       "    </tr>\n",
       "    <tr>\n",
       "      <th>2015-03-10</th>\n",
       "      <td>-0.010263</td>\n",
       "      <td>-0.005341</td>\n",
       "      <td>-0.012079</td>\n",
       "      <td>-0.009739</td>\n",
       "    </tr>\n",
       "    <tr>\n",
       "      <th>2015-03-11</th>\n",
       "      <td>0.004012</td>\n",
       "      <td>0.005163</td>\n",
       "      <td>0.003312</td>\n",
       "      <td>-0.001147</td>\n",
       "    </tr>\n",
       "    <tr>\n",
       "      <th>2015-03-12</th>\n",
       "      <td>0.008265</td>\n",
       "      <td>0.010272</td>\n",
       "      <td>0.013117</td>\n",
       "      <td>0.010801</td>\n",
       "    </tr>\n",
       "    <tr>\n",
       "      <th>2015-03-13</th>\n",
       "      <td>-0.002497</td>\n",
       "      <td>-0.001428</td>\n",
       "      <td>-0.003697</td>\n",
       "      <td>-0.008142</td>\n",
       "    </tr>\n",
       "  </tbody>\n",
       "</table>\n",
       "</div>"
      ],
      "text/plain": [
       "            SOROS FUND MANAGEMENT LLC  PAULSON & CO.INC.   \\\n",
       "Date                                                        \n",
       "2015-03-02                        NaN                 NaN   \n",
       "2015-03-03                  -0.001266           -0.004981   \n",
       "2015-03-04                   0.002230            0.003241   \n",
       "2015-03-05                   0.004016            0.004076   \n",
       "2015-03-06                  -0.007905           -0.003574   \n",
       "2015-03-09                   0.000582            0.004225   \n",
       "2015-03-10                  -0.010263           -0.005341   \n",
       "2015-03-11                   0.004012            0.005163   \n",
       "2015-03-12                   0.008265            0.010272   \n",
       "2015-03-13                  -0.002497           -0.001428   \n",
       "\n",
       "            TIGER GLOBAL MANAGEMENT LLC  BERKSHIRE HATHAWAY INC  \n",
       "Date                                                             \n",
       "2015-03-02                          NaN                     NaN  \n",
       "2015-03-03                    -0.000496               -0.006569  \n",
       "2015-03-04                    -0.002534                0.004213  \n",
       "2015-03-05                     0.002355                0.006726  \n",
       "2015-03-06                    -0.008481               -0.013098  \n",
       "2015-03-09                     0.005843               -0.001652  \n",
       "2015-03-10                    -0.012079               -0.009739  \n",
       "2015-03-11                     0.003312               -0.001147  \n",
       "2015-03-12                     0.013117                0.010801  \n",
       "2015-03-13                    -0.003697               -0.008142  "
      ]
     },
     "execution_count": 2,
     "metadata": {},
     "output_type": "execute_result"
    }
   ],
   "source": [
    "# Reading whale returns\n",
    "whale_returns_csv = Path(\"Resources/whale_returns.csv\")\n",
    "# YOUR CODE HERE\n",
    "whale_df = pd.read_csv(whale_returns_csv, index_col=\"Date\", infer_datetime_format=True, parse_dates=True)\n",
    "whale_df.head(10)\n"
   ]
  },
  {
   "cell_type": "code",
   "execution_count": 3,
   "metadata": {},
   "outputs": [
    {
     "data": {
      "text/plain": [
       "SOROS FUND MANAGEMENT LLC      1\n",
       "PAULSON & CO.INC.              1\n",
       "TIGER GLOBAL MANAGEMENT LLC    1\n",
       "BERKSHIRE HATHAWAY INC         1\n",
       "dtype: int64"
      ]
     },
     "execution_count": 3,
     "metadata": {},
     "output_type": "execute_result"
    }
   ],
   "source": [
    "# Count nulls\n",
    "# YOUR CODE HERE\n",
    "whale_df.isnull().sum()\n"
   ]
  },
  {
   "cell_type": "code",
   "execution_count": 4,
   "metadata": {},
   "outputs": [
    {
     "name": "stdout",
     "output_type": "stream",
     "text": [
      "            SOROS FUND MANAGEMENT LLC  PAULSON & CO.INC.   \\\n",
      "Date                                                        \n",
      "2015-03-03                  -0.001266           -0.004981   \n",
      "2015-03-04                   0.002230            0.003241   \n",
      "2015-03-05                   0.004016            0.004076   \n",
      "2015-03-06                  -0.007905           -0.003574   \n",
      "2015-03-09                   0.000582            0.004225   \n",
      "...                               ...                 ...   \n",
      "2019-04-25                  -0.000285           -0.001291   \n",
      "2019-04-26                   0.008149            0.009162   \n",
      "2019-04-29                   0.001254            0.002719   \n",
      "2019-04-30                  -0.001295           -0.002211   \n",
      "2019-05-01                  -0.005847           -0.001341   \n",
      "\n",
      "            TIGER GLOBAL MANAGEMENT LLC  BERKSHIRE HATHAWAY INC  \n",
      "Date                                                             \n",
      "2015-03-03                    -0.000496               -0.006569  \n",
      "2015-03-04                    -0.002534                0.004213  \n",
      "2015-03-05                     0.002355                0.006726  \n",
      "2015-03-06                    -0.008481               -0.013098  \n",
      "2015-03-09                     0.005843               -0.001652  \n",
      "...                                 ...                     ...  \n",
      "2019-04-25                    -0.005153                0.004848  \n",
      "2019-04-26                     0.012355                0.010434  \n",
      "2019-04-29                     0.006251                0.005223  \n",
      "2019-04-30                    -0.000259               -0.003702  \n",
      "2019-05-01                    -0.007936               -0.007833  \n",
      "\n",
      "[1059 rows x 4 columns]\n"
     ]
    }
   ],
   "source": [
    "# Drop nulls\n",
    "# YOUR CODE HERE\n",
    "whale_df.dropna(inplace = True)\n",
    "print(whale_df)"
   ]
  },
  {
   "cell_type": "markdown",
   "metadata": {},
   "source": [
    "## Algorithmic Daily Returns\n",
    "\n",
    "Read the algorithmic daily returns and clean the data"
   ]
  },
  {
   "cell_type": "code",
   "execution_count": 5,
   "metadata": {},
   "outputs": [
    {
     "name": "stdout",
     "output_type": "stream",
     "text": [
      "              Algo 1    Algo 2\n",
      "Date                          \n",
      "2014-05-28  0.001745       NaN\n",
      "2014-05-29  0.003978       NaN\n",
      "2014-05-30  0.004464       NaN\n",
      "2014-06-02  0.005692       NaN\n",
      "2014-06-03  0.005292       NaN\n",
      "...              ...       ...\n",
      "2019-04-25  0.000682 -0.007247\n",
      "2019-04-26  0.002981  0.005256\n",
      "2019-04-29  0.005208  0.002829\n",
      "2019-04-30 -0.002944 -0.001570\n",
      "2019-05-01  0.000094 -0.007358\n",
      "\n",
      "[1241 rows x 2 columns]\n"
     ]
    }
   ],
   "source": [
    "# Reading algorithmic returns\n",
    "algo_returns_csv = Path(\"Resources/algo_returns.csv\")\n",
    "# YOUR CODE HERE\n",
    "algo_df = pd.read_csv(algo_returns_csv, index_col=\"Date\", infer_datetime_format=True, parse_dates=True)\n",
    "print(algo_df)"
   ]
  },
  {
   "cell_type": "code",
   "execution_count": 6,
   "metadata": {},
   "outputs": [
    {
     "data": {
      "text/plain": [
       "Algo 1    False\n",
       "Algo 2     True\n",
       "dtype: bool"
      ]
     },
     "execution_count": 6,
     "metadata": {},
     "output_type": "execute_result"
    }
   ],
   "source": [
    "# Count nulls\n",
    "# YOUR CODE HERE\n",
    "algo_df.isnull().any()\n"
   ]
  },
  {
   "cell_type": "code",
   "execution_count": 7,
   "metadata": {},
   "outputs": [
    {
     "name": "stdout",
     "output_type": "stream",
     "text": [
      "              Algo 1    Algo 2\n",
      "Date                          \n",
      "2014-06-05  0.004062  0.013285\n",
      "2014-06-06  0.001857  0.008284\n",
      "2014-06-09 -0.005012  0.005668\n",
      "2014-06-10  0.004406 -0.000735\n",
      "2014-06-11  0.004760 -0.003761\n",
      "...              ...       ...\n",
      "2019-04-25  0.000682 -0.007247\n",
      "2019-04-26  0.002981  0.005256\n",
      "2019-04-29  0.005208  0.002829\n",
      "2019-04-30 -0.002944 -0.001570\n",
      "2019-05-01  0.000094 -0.007358\n",
      "\n",
      "[1235 rows x 2 columns]\n"
     ]
    }
   ],
   "source": [
    "# Drop nulls\n",
    "# YOUR CODE HERE\n",
    "algo_df.dropna(inplace = True)\n",
    "print(algo_df)"
   ]
  },
  {
   "cell_type": "markdown",
   "metadata": {},
   "source": [
    "## S&P 500 Returns\n",
    "\n",
    "Read the S&P500 Historic Closing Prices and create a new daily returns DataFrame from the data. "
   ]
  },
  {
   "cell_type": "code",
   "execution_count": 8,
   "metadata": {},
   "outputs": [
    {
     "name": "stdout",
     "output_type": "stream",
     "text": [
      "               Close\n",
      "Date                \n",
      "2019-04-23  $2933.68\n",
      "2019-04-22  $2907.97\n",
      "2019-04-18  $2905.03\n",
      "2019-04-17  $2900.45\n",
      "2019-04-16  $2907.06\n",
      "...              ...\n",
      "2012-10-05  $1460.93\n",
      "2012-10-04  $1461.40\n",
      "2012-10-03  $1450.99\n",
      "2012-10-02  $1445.75\n",
      "2012-10-01  $1444.49\n",
      "\n",
      "[1649 rows x 1 columns]\n"
     ]
    }
   ],
   "source": [
    "# Reading S&P 500 Closing Prices, sorting index\n",
    "sp500_history_csv = Path(\"Resources/sp500_history.csv\")\n",
    "# YOUR CODE HERE\n",
    "#df = pd.read_csv(sp500_history_csv)\n",
    "sp500_df = pd.read_csv(sp500_history_csv, index_col=\"Date\", infer_datetime_format=True, parse_dates=True)\n",
    "print(sp500_df)"
   ]
  },
  {
   "cell_type": "code",
   "execution_count": 9,
   "metadata": {},
   "outputs": [
    {
     "data": {
      "text/plain": [
       "Close    object\n",
       "dtype: object"
      ]
     },
     "execution_count": 9,
     "metadata": {},
     "output_type": "execute_result"
    }
   ],
   "source": [
    "# Check Data Types\n",
    "# YOUR CODE HERE\n",
    "sp500_df.dtypes\n"
   ]
  },
  {
   "cell_type": "code",
   "execution_count": 10,
   "metadata": {},
   "outputs": [
    {
     "data": {
      "text/plain": [
       "Date\n",
       "2019-04-23    2933.68\n",
       "2019-04-22    2907.97\n",
       "2019-04-18    2905.03\n",
       "2019-04-17    2900.45\n",
       "2019-04-16    2907.06\n",
       "               ...   \n",
       "2012-10-05    1460.93\n",
       "2012-10-04    1461.40\n",
       "2012-10-03    1450.99\n",
       "2012-10-02    1445.75\n",
       "2012-10-01    1444.49\n",
       "Name: Close, Length: 1649, dtype: float64"
      ]
     },
     "execution_count": 10,
     "metadata": {},
     "output_type": "execute_result"
    }
   ],
   "source": [
    "# Fix Data Types\n",
    "# YOUR CODE HERE\n",
    "sp500_df['Close'] = sp500_df['Close'].str.replace('$','',)\n",
    "sp500_df['Close'] = sp500_df['Close'].astype(\"float\")\n",
    "sp500_df['Close']"
   ]
  },
  {
   "cell_type": "code",
   "execution_count": 11,
   "metadata": {},
   "outputs": [
    {
     "data": {
      "text/html": [
       "<div>\n",
       "<style scoped>\n",
       "    .dataframe tbody tr th:only-of-type {\n",
       "        vertical-align: middle;\n",
       "    }\n",
       "\n",
       "    .dataframe tbody tr th {\n",
       "        vertical-align: top;\n",
       "    }\n",
       "\n",
       "    .dataframe thead th {\n",
       "        text-align: right;\n",
       "    }\n",
       "</style>\n",
       "<table border=\"1\" class=\"dataframe\">\n",
       "  <thead>\n",
       "    <tr style=\"text-align: right;\">\n",
       "      <th></th>\n",
       "      <th>Close</th>\n",
       "    </tr>\n",
       "    <tr>\n",
       "      <th>Date</th>\n",
       "      <th></th>\n",
       "    </tr>\n",
       "  </thead>\n",
       "  <tbody>\n",
       "    <tr>\n",
       "      <th>2019-04-23</th>\n",
       "      <td>2933.68</td>\n",
       "    </tr>\n",
       "    <tr>\n",
       "      <th>2019-04-22</th>\n",
       "      <td>2907.97</td>\n",
       "    </tr>\n",
       "    <tr>\n",
       "      <th>2019-04-18</th>\n",
       "      <td>2905.03</td>\n",
       "    </tr>\n",
       "    <tr>\n",
       "      <th>2019-04-17</th>\n",
       "      <td>2900.45</td>\n",
       "    </tr>\n",
       "    <tr>\n",
       "      <th>2019-04-16</th>\n",
       "      <td>2907.06</td>\n",
       "    </tr>\n",
       "    <tr>\n",
       "      <th>...</th>\n",
       "      <td>...</td>\n",
       "    </tr>\n",
       "    <tr>\n",
       "      <th>2012-10-05</th>\n",
       "      <td>1460.93</td>\n",
       "    </tr>\n",
       "    <tr>\n",
       "      <th>2012-10-04</th>\n",
       "      <td>1461.40</td>\n",
       "    </tr>\n",
       "    <tr>\n",
       "      <th>2012-10-03</th>\n",
       "      <td>1450.99</td>\n",
       "    </tr>\n",
       "    <tr>\n",
       "      <th>2012-10-02</th>\n",
       "      <td>1445.75</td>\n",
       "    </tr>\n",
       "    <tr>\n",
       "      <th>2012-10-01</th>\n",
       "      <td>1444.49</td>\n",
       "    </tr>\n",
       "  </tbody>\n",
       "</table>\n",
       "<p>1649 rows × 1 columns</p>\n",
       "</div>"
      ],
      "text/plain": [
       "              Close\n",
       "Date               \n",
       "2019-04-23  2933.68\n",
       "2019-04-22  2907.97\n",
       "2019-04-18  2905.03\n",
       "2019-04-17  2900.45\n",
       "2019-04-16  2907.06\n",
       "...             ...\n",
       "2012-10-05  1460.93\n",
       "2012-10-04  1461.40\n",
       "2012-10-03  1450.99\n",
       "2012-10-02  1445.75\n",
       "2012-10-01  1444.49\n",
       "\n",
       "[1649 rows x 1 columns]"
      ]
     },
     "execution_count": 11,
     "metadata": {},
     "output_type": "execute_result"
    }
   ],
   "source": [
    "sp500_df"
   ]
  },
  {
   "cell_type": "code",
   "execution_count": 12,
   "metadata": {},
   "outputs": [
    {
     "data": {
      "text/html": [
       "<div>\n",
       "<style scoped>\n",
       "    .dataframe tbody tr th:only-of-type {\n",
       "        vertical-align: middle;\n",
       "    }\n",
       "\n",
       "    .dataframe tbody tr th {\n",
       "        vertical-align: top;\n",
       "    }\n",
       "\n",
       "    .dataframe thead th {\n",
       "        text-align: right;\n",
       "    }\n",
       "</style>\n",
       "<table border=\"1\" class=\"dataframe\">\n",
       "  <thead>\n",
       "    <tr style=\"text-align: right;\">\n",
       "      <th></th>\n",
       "      <th>Close</th>\n",
       "    </tr>\n",
       "    <tr>\n",
       "      <th>Date</th>\n",
       "      <th></th>\n",
       "    </tr>\n",
       "  </thead>\n",
       "  <tbody>\n",
       "    <tr>\n",
       "      <th>2019-04-23</th>\n",
       "      <td>NaN</td>\n",
       "    </tr>\n",
       "    <tr>\n",
       "      <th>2019-04-22</th>\n",
       "      <td>-0.008764</td>\n",
       "    </tr>\n",
       "    <tr>\n",
       "      <th>2019-04-18</th>\n",
       "      <td>-0.001011</td>\n",
       "    </tr>\n",
       "    <tr>\n",
       "      <th>2019-04-17</th>\n",
       "      <td>-0.001577</td>\n",
       "    </tr>\n",
       "    <tr>\n",
       "      <th>2019-04-16</th>\n",
       "      <td>0.002279</td>\n",
       "    </tr>\n",
       "  </tbody>\n",
       "</table>\n",
       "</div>"
      ],
      "text/plain": [
       "               Close\n",
       "Date                \n",
       "2019-04-23       NaN\n",
       "2019-04-22 -0.008764\n",
       "2019-04-18 -0.001011\n",
       "2019-04-17 -0.001577\n",
       "2019-04-16  0.002279"
      ]
     },
     "execution_count": 12,
     "metadata": {},
     "output_type": "execute_result"
    }
   ],
   "source": [
    "# Calculate Daily Returns\n",
    "# YOUR CODE HERE\n",
    "sp500_dayreturns_df = sp500_df.pct_change()\n",
    "sp500_dayreturns_df.head()"
   ]
  },
  {
   "cell_type": "code",
   "execution_count": 13,
   "metadata": {},
   "outputs": [
    {
     "name": "stdout",
     "output_type": "stream",
     "text": [
      "               Close\n",
      "Date                \n",
      "2019-04-22 -0.008764\n",
      "2019-04-18 -0.001011\n",
      "2019-04-17 -0.001577\n",
      "2019-04-16  0.002279\n",
      "2019-04-15 -0.000509\n",
      "...              ...\n",
      "2012-10-05  0.003469\n",
      "2012-10-04  0.000322\n",
      "2012-10-03 -0.007123\n",
      "2012-10-02 -0.003611\n",
      "2012-10-01 -0.000872\n",
      "\n",
      "[1648 rows x 1 columns]\n"
     ]
    }
   ],
   "source": [
    "# Drop nulls\n",
    "# YOUR CODE HERE\n",
    "sp500_dayreturns_df.isnull().any()\n",
    "sp500_dayreturns_df.dropna(inplace = True)\n",
    "print(sp500_dayreturns_df)"
   ]
  },
  {
   "cell_type": "code",
   "execution_count": 14,
   "metadata": {},
   "outputs": [
    {
     "data": {
      "text/html": [
       "<div>\n",
       "<style scoped>\n",
       "    .dataframe tbody tr th:only-of-type {\n",
       "        vertical-align: middle;\n",
       "    }\n",
       "\n",
       "    .dataframe tbody tr th {\n",
       "        vertical-align: top;\n",
       "    }\n",
       "\n",
       "    .dataframe thead th {\n",
       "        text-align: right;\n",
       "    }\n",
       "</style>\n",
       "<table border=\"1\" class=\"dataframe\">\n",
       "  <thead>\n",
       "    <tr style=\"text-align: right;\">\n",
       "      <th></th>\n",
       "      <th>sp500Daily Returns</th>\n",
       "    </tr>\n",
       "    <tr>\n",
       "      <th>Date</th>\n",
       "      <th></th>\n",
       "    </tr>\n",
       "  </thead>\n",
       "  <tbody>\n",
       "    <tr>\n",
       "      <th>2019-04-22</th>\n",
       "      <td>-0.008764</td>\n",
       "    </tr>\n",
       "    <tr>\n",
       "      <th>2019-04-18</th>\n",
       "      <td>-0.001011</td>\n",
       "    </tr>\n",
       "    <tr>\n",
       "      <th>2019-04-17</th>\n",
       "      <td>-0.001577</td>\n",
       "    </tr>\n",
       "    <tr>\n",
       "      <th>2019-04-16</th>\n",
       "      <td>0.002279</td>\n",
       "    </tr>\n",
       "    <tr>\n",
       "      <th>2019-04-15</th>\n",
       "      <td>-0.000509</td>\n",
       "    </tr>\n",
       "  </tbody>\n",
       "</table>\n",
       "</div>"
      ],
      "text/plain": [
       "            sp500Daily Returns\n",
       "Date                          \n",
       "2019-04-22           -0.008764\n",
       "2019-04-18           -0.001011\n",
       "2019-04-17           -0.001577\n",
       "2019-04-16            0.002279\n",
       "2019-04-15           -0.000509"
      ]
     },
     "execution_count": 14,
     "metadata": {},
     "output_type": "execute_result"
    }
   ],
   "source": [
    "# Rename Column\n",
    "# YOUR CODE HERE\n",
    "columns = [\"sp500Daily Returns\"]\n",
    "sp500_dayreturns_df.columns = columns\n",
    "sp500_dayreturns_df.head()\n"
   ]
  },
  {
   "cell_type": "markdown",
   "metadata": {},
   "source": [
    "## Combine Whale, Algorithmic, and S&P 500 Returns"
   ]
  },
  {
   "cell_type": "code",
   "execution_count": 80,
   "metadata": {},
   "outputs": [
    {
     "name": "stdout",
     "output_type": "stream",
     "text": [
      "            SOROS FUND MANAGEMENT LLC  PAULSON & CO.INC.   \\\n",
      "Date                                                        \n",
      "2015-03-03                  -0.001266           -0.004981   \n",
      "2015-03-04                   0.002230            0.003241   \n",
      "2015-03-05                   0.004016            0.004076   \n",
      "2015-03-06                  -0.007905           -0.003574   \n",
      "2015-03-09                   0.000582            0.004225   \n",
      "...                               ...                 ...   \n",
      "2019-04-15                  -0.001422           -0.001156   \n",
      "2019-04-16                   0.002699            0.000388   \n",
      "2019-04-17                  -0.002897           -0.006467   \n",
      "2019-04-18                   0.001448            0.001222   \n",
      "2019-04-22                  -0.002586           -0.007333   \n",
      "\n",
      "            TIGER GLOBAL MANAGEMENT LLC  BERKSHIRE HATHAWAY INC    Algo 1  \\\n",
      "Date                                                                        \n",
      "2015-03-03                    -0.000496               -0.006569 -0.001942   \n",
      "2015-03-04                    -0.002534                0.004213 -0.008589   \n",
      "2015-03-05                     0.002355                0.006726 -0.000955   \n",
      "2015-03-06                    -0.008481               -0.013098 -0.004957   \n",
      "2015-03-09                     0.005843               -0.001652 -0.005447   \n",
      "...                                 ...                     ...       ...   \n",
      "2019-04-15                     0.000398               -0.010492 -0.004331   \n",
      "2019-04-16                    -0.000831                0.000837 -0.006945   \n",
      "2019-04-17                    -0.004409                0.003222 -0.010301   \n",
      "2019-04-18                     0.000582                0.001916 -0.000588   \n",
      "2019-04-22                    -0.003640               -0.001088  0.000677   \n",
      "\n",
      "              Algo 2  sp500Daily Returns  \n",
      "Date                                      \n",
      "2015-03-03 -0.000949            0.004408  \n",
      "2015-03-04  0.002416           -0.001195  \n",
      "2015-03-05  0.004323            0.014378  \n",
      "2015-03-06 -0.011460           -0.003929  \n",
      "2015-03-09  0.001303            0.017254  \n",
      "...              ...                 ...  \n",
      "2019-04-15 -0.004572           -0.000509  \n",
      "2019-04-16  0.002899            0.002279  \n",
      "2019-04-17 -0.005228           -0.001577  \n",
      "2019-04-18 -0.001229           -0.001011  \n",
      "2019-04-22 -0.001936           -0.008764  \n",
      "\n",
      "[1042 rows x 7 columns]\n"
     ]
    }
   ],
   "source": [
    "# Concatenate all DataFrames into a single DataFrame\n",
    "# YOUR CODE HERE\n",
    "joint_df = pd.concat([whale_df, algo_df,sp500_dayreturns_df], axis=\"columns\", join=\"inner\")\n",
    "joint_df\n",
    "print(joint_df)\n"
   ]
  },
  {
   "cell_type": "markdown",
   "metadata": {},
   "source": [
    "---"
   ]
  },
  {
   "cell_type": "markdown",
   "metadata": {},
   "source": [
    "# Portfolio Analysis\n",
    "\n",
    "In this section, you will calculate and visualize performance and risk metrics for the portfolios."
   ]
  },
  {
   "cell_type": "markdown",
   "metadata": {},
   "source": [
    "## Performance\n",
    "\n",
    "Calculate and Plot the daily returns and cumulative returns. "
   ]
  },
  {
   "cell_type": "code",
   "execution_count": 81,
   "metadata": {},
   "outputs": [
    {
     "data": {
      "text/plain": [
       "<matplotlib.axes._subplots.AxesSubplot at 0x2c0ce50c548>"
      ]
     },
     "execution_count": 81,
     "metadata": {},
     "output_type": "execute_result"
    },
    {
     "data": {
      "image/png": "[encoded data removed]",
      "text/plain": [
       "<Figure size 432x288 with 1 Axes>"
      ]
     },
     "metadata": {
      "needs_background": "light"
     },
     "output_type": "display_data"
    }
   ],
   "source": [
    "# Plot daily returns\n",
    "# YOUR CODE HERE\n",
    "joint_df.plot()"
   ]
  },
  {
   "cell_type": "code",
   "execution_count": 82,
   "metadata": {},
   "outputs": [
    {
     "data": {
      "text/html": [
       "<div>\n",
       "<style scoped>\n",
       "    .dataframe tbody tr th:only-of-type {\n",
       "        vertical-align: middle;\n",
       "    }\n",
       "\n",
       "    .dataframe tbody tr th {\n",
       "        vertical-align: top;\n",
       "    }\n",
       "\n",
       "    .dataframe thead th {\n",
       "        text-align: right;\n",
       "    }\n",
       "</style>\n",
       "<table border=\"1\" class=\"dataframe\">\n",
       "  <thead>\n",
       "    <tr style=\"text-align: right;\">\n",
       "      <th></th>\n",
       "      <th>SOROS FUND MANAGEMENT LLC</th>\n",
       "      <th>PAULSON &amp; CO.INC.</th>\n",
       "      <th>TIGER GLOBAL MANAGEMENT LLC</th>\n",
       "      <th>BERKSHIRE HATHAWAY INC</th>\n",
       "      <th>Algo 1</th>\n",
       "      <th>Algo 2</th>\n",
       "      <th>sp500Daily Returns</th>\n",
       "    </tr>\n",
       "    <tr>\n",
       "      <th>Date</th>\n",
       "      <th></th>\n",
       "      <th></th>\n",
       "      <th></th>\n",
       "      <th></th>\n",
       "      <th></th>\n",
       "      <th></th>\n",
       "      <th></th>\n",
       "    </tr>\n",
       "  </thead>\n",
       "  <tbody>\n",
       "    <tr>\n",
       "      <th>2015-03-03</th>\n",
       "      <td>-0.001266</td>\n",
       "      <td>-0.004981</td>\n",
       "      <td>-0.000496</td>\n",
       "      <td>-0.006569</td>\n",
       "      <td>-0.001942</td>\n",
       "      <td>-0.000949</td>\n",
       "      <td>0.004408</td>\n",
       "    </tr>\n",
       "    <tr>\n",
       "      <th>2015-03-04</th>\n",
       "      <td>0.000962</td>\n",
       "      <td>-0.001755</td>\n",
       "      <td>-0.003028</td>\n",
       "      <td>-0.002383</td>\n",
       "      <td>-0.010514</td>\n",
       "      <td>0.001464</td>\n",
       "      <td>0.003208</td>\n",
       "    </tr>\n",
       "    <tr>\n",
       "      <th>2015-03-05</th>\n",
       "      <td>0.004981</td>\n",
       "      <td>0.002314</td>\n",
       "      <td>-0.000681</td>\n",
       "      <td>0.004327</td>\n",
       "      <td>-0.011459</td>\n",
       "      <td>0.005794</td>\n",
       "      <td>0.017632</td>\n",
       "    </tr>\n",
       "    <tr>\n",
       "      <th>2015-03-06</th>\n",
       "      <td>-0.002963</td>\n",
       "      <td>-0.001269</td>\n",
       "      <td>-0.009156</td>\n",
       "      <td>-0.008828</td>\n",
       "      <td>-0.016359</td>\n",
       "      <td>-0.005733</td>\n",
       "      <td>0.013634</td>\n",
       "    </tr>\n",
       "    <tr>\n",
       "      <th>2015-03-09</th>\n",
       "      <td>-0.002383</td>\n",
       "      <td>0.002951</td>\n",
       "      <td>-0.003367</td>\n",
       "      <td>-0.010466</td>\n",
       "      <td>-0.021717</td>\n",
       "      <td>-0.004437</td>\n",
       "      <td>0.031123</td>\n",
       "    </tr>\n",
       "    <tr>\n",
       "      <th>...</th>\n",
       "      <td>...</td>\n",
       "      <td>...</td>\n",
       "      <td>...</td>\n",
       "      <td>...</td>\n",
       "      <td>...</td>\n",
       "      <td>...</td>\n",
       "      <td>...</td>\n",
       "    </tr>\n",
       "    <tr>\n",
       "      <th>2019-04-15</th>\n",
       "      <td>0.157839</td>\n",
       "      <td>-0.213494</td>\n",
       "      <td>-0.137203</td>\n",
       "      <td>0.525584</td>\n",
       "      <td>0.958591</td>\n",
       "      <td>0.264103</td>\n",
       "      <td>-0.274944</td>\n",
       "    </tr>\n",
       "    <tr>\n",
       "      <th>2019-04-16</th>\n",
       "      <td>0.160965</td>\n",
       "      <td>-0.213189</td>\n",
       "      <td>-0.137920</td>\n",
       "      <td>0.526861</td>\n",
       "      <td>0.944990</td>\n",
       "      <td>0.267768</td>\n",
       "      <td>-0.273292</td>\n",
       "    </tr>\n",
       "    <tr>\n",
       "      <th>2019-04-17</th>\n",
       "      <td>0.157602</td>\n",
       "      <td>-0.218277</td>\n",
       "      <td>-0.141721</td>\n",
       "      <td>0.531781</td>\n",
       "      <td>0.924954</td>\n",
       "      <td>0.261140</td>\n",
       "      <td>-0.274438</td>\n",
       "    </tr>\n",
       "    <tr>\n",
       "      <th>2019-04-18</th>\n",
       "      <td>0.159278</td>\n",
       "      <td>-0.217322</td>\n",
       "      <td>-0.141222</td>\n",
       "      <td>0.534716</td>\n",
       "      <td>0.923823</td>\n",
       "      <td>0.259590</td>\n",
       "      <td>-0.275171</td>\n",
       "    </tr>\n",
       "    <tr>\n",
       "      <th>2019-04-22</th>\n",
       "      <td>0.156280</td>\n",
       "      <td>-0.223061</td>\n",
       "      <td>-0.144348</td>\n",
       "      <td>0.533046</td>\n",
       "      <td>0.925124</td>\n",
       "      <td>0.257151</td>\n",
       "      <td>-0.281524</td>\n",
       "    </tr>\n",
       "  </tbody>\n",
       "</table>\n",
       "<p>1042 rows × 7 columns</p>\n",
       "</div>"
      ],
      "text/plain": [
       "            SOROS FUND MANAGEMENT LLC  PAULSON & CO.INC.   \\\n",
       "Date                                                        \n",
       "2015-03-03                  -0.001266           -0.004981   \n",
       "2015-03-04                   0.000962           -0.001755   \n",
       "2015-03-05                   0.004981            0.002314   \n",
       "2015-03-06                  -0.002963           -0.001269   \n",
       "2015-03-09                  -0.002383            0.002951   \n",
       "...                               ...                 ...   \n",
       "2019-04-15                   0.157839           -0.213494   \n",
       "2019-04-16                   0.160965           -0.213189   \n",
       "2019-04-17                   0.157602           -0.218277   \n",
       "2019-04-18                   0.159278           -0.217322   \n",
       "2019-04-22                   0.156280           -0.223061   \n",
       "\n",
       "            TIGER GLOBAL MANAGEMENT LLC  BERKSHIRE HATHAWAY INC    Algo 1  \\\n",
       "Date                                                                        \n",
       "2015-03-03                    -0.000496               -0.006569 -0.001942   \n",
       "2015-03-04                    -0.003028               -0.002383 -0.010514   \n",
       "2015-03-05                    -0.000681                0.004327 -0.011459   \n",
       "2015-03-06                    -0.009156               -0.008828 -0.016359   \n",
       "2015-03-09                    -0.003367               -0.010466 -0.021717   \n",
       "...                                 ...                     ...       ...   \n",
       "2019-04-15                    -0.137203                0.525584  0.958591   \n",
       "2019-04-16                    -0.137920                0.526861  0.944990   \n",
       "2019-04-17                    -0.141721                0.531781  0.924954   \n",
       "2019-04-18                    -0.141222                0.534716  0.923823   \n",
       "2019-04-22                    -0.144348                0.533046  0.925124   \n",
       "\n",
       "              Algo 2  sp500Daily Returns  \n",
       "Date                                      \n",
       "2015-03-03 -0.000949            0.004408  \n",
       "2015-03-04  0.001464            0.003208  \n",
       "2015-03-05  0.005794            0.017632  \n",
       "2015-03-06 -0.005733            0.013634  \n",
       "2015-03-09 -0.004437            0.031123  \n",
       "...              ...                 ...  \n",
       "2019-04-15  0.264103           -0.274944  \n",
       "2019-04-16  0.267768           -0.273292  \n",
       "2019-04-17  0.261140           -0.274438  \n",
       "2019-04-18  0.259590           -0.275171  \n",
       "2019-04-22  0.257151           -0.281524  \n",
       "\n",
       "[1042 rows x 7 columns]"
      ]
     },
     "execution_count": 82,
     "metadata": {},
     "output_type": "execute_result"
    }
   ],
   "source": [
    "# Plot cumulative returns\n",
    "# YOUR CODE HERE\n",
    "cumulative_returns = (1 + joint_df).cumprod() - 1\n",
    "cumulative_returns \n"
   ]
  },
  {
   "cell_type": "code",
   "execution_count": 83,
   "metadata": {},
   "outputs": [
    {
     "data": {
      "text/plain": [
       "<matplotlib.axes._subplots.AxesSubplot at 0x2c0ce82c0c8>"
      ]
     },
     "execution_count": 83,
     "metadata": {},
     "output_type": "execute_result"
    },
    {
     "data": {
      "image/png": "[encoded data removed]",
      "text/plain": [
       "<Figure size 720x360 with 1 Axes>"
      ]
     },
     "metadata": {
      "needs_background": "light"
     },
     "output_type": "display_data"
    }
   ],
   "source": [
    "cumulative_returns.plot(figsize=(10,5), title = \"Cumulative Returns\")"
   ]
  },
  {
   "cell_type": "markdown",
   "metadata": {},
   "source": [
    "---"
   ]
  },
  {
   "cell_type": "markdown",
   "metadata": {},
   "source": [
    "## Risk\n",
    "\n",
    "Determine the _risk_ of each portfolio:\n",
    "\n",
    "1. Create a box plot for each portfolio. \n",
    "2. Calculate the standard deviation for all portfolios\n",
    "4. Determine which portfolios are riskier than the S&P 500\n",
    "5. Calculate the Annualized Standard Deviation"
   ]
  },
  {
   "cell_type": "code",
   "execution_count": 84,
   "metadata": {},
   "outputs": [
    {
     "data": {
      "text/plain": [
       "<matplotlib.axes._subplots.AxesSubplot at 0x2c0ce8d9e48>"
      ]
     },
     "execution_count": 84,
     "metadata": {},
     "output_type": "execute_result"
    },
    {
     "data": {
      "image/png": "[encoded data removed]",
      "text/plain": [
       "<Figure size 432x288 with 1 Axes>"
      ]
     },
     "metadata": {
      "needs_background": "light"
     },
     "output_type": "display_data"
    }
   ],
   "source": [
    "# Box plot to visually show risk\n",
    "# YOUR CODE HERE\n",
    "whale_df.plot.box()"
   ]
  },
  {
   "cell_type": "code",
   "execution_count": 85,
   "metadata": {},
   "outputs": [
    {
     "data": {
      "text/plain": [
       "<matplotlib.axes._subplots.AxesSubplot at 0x2c0ce98a4c8>"
      ]
     },
     "execution_count": 85,
     "metadata": {},
     "output_type": "execute_result"
    },
    {
     "data": {
      "image/png": "[encoded data removed]",
      "text/plain": [
       "<Figure size 432x288 with 1 Axes>"
      ]
     },
     "metadata": {
      "needs_background": "light"
     },
     "output_type": "display_data"
    }
   ],
   "source": [
    "algo_df.plot.box()"
   ]
  },
  {
   "cell_type": "code",
   "execution_count": 86,
   "metadata": {},
   "outputs": [
    {
     "data": {
      "text/plain": [
       "<matplotlib.axes._subplots.AxesSubplot at 0x2c0ce9f3d88>"
      ]
     },
     "execution_count": 86,
     "metadata": {},
     "output_type": "execute_result"
    },
    {
     "data": {
      "image/png": "[encoded data removed]",
      "text/plain": [
       "<Figure size 432x288 with 1 Axes>"
      ]
     },
     "metadata": {
      "needs_background": "light"
     },
     "output_type": "display_data"
    }
   ],
   "source": [
    "sp500_dayreturns_df.plot.box()"
   ]
  },
  {
   "cell_type": "code",
   "execution_count": 22,
   "metadata": {},
   "outputs": [
    {
     "data": {
      "text/plain": [
       "SOROS FUND MANAGEMENT LLC      0.007842\n",
       "PAULSON & CO.INC.              0.006977\n",
       "TIGER GLOBAL MANAGEMENT LLC    0.010824\n",
       "BERKSHIRE HATHAWAY INC         0.012831\n",
       "dtype: float64"
      ]
     },
     "execution_count": 22,
     "metadata": {},
     "output_type": "execute_result"
    }
   ],
   "source": [
    "# Daily Standard Deviations\n",
    "# Calculate the standard deviation for each portfolio. Which portfolios are riskier than the S&P 500?\n",
    "# YOUR CODE HERE\n",
    "whale_std = whale_df.std()\n",
    "whale_std.head()"
   ]
  },
  {
   "cell_type": "code",
   "execution_count": 23,
   "metadata": {},
   "outputs": [
    {
     "data": {
      "text/plain": [
       "Algo 1    0.007988\n",
       "Algo 2    0.008466\n",
       "dtype: float64"
      ]
     },
     "execution_count": 23,
     "metadata": {},
     "output_type": "execute_result"
    }
   ],
   "source": [
    "algo_std = algo_df.std()\n",
    "algo_std.head()"
   ]
  },
  {
   "cell_type": "code",
   "execution_count": 24,
   "metadata": {},
   "outputs": [
    {
     "data": {
      "text/plain": [
       "sp500Daily Returns    0.008135\n",
       "dtype: float64"
      ]
     },
     "execution_count": 24,
     "metadata": {},
     "output_type": "execute_result"
    }
   ],
   "source": [
    "sp500_dayreturns_std = sp500_dayreturns_df.std()\n",
    "sp500_dayreturns_std.head()"
   ]
  },
  {
   "cell_type": "code",
   "execution_count": 25,
   "metadata": {},
   "outputs": [
    {
     "data": {
      "text/plain": [
       "SOROS FUND MANAGEMENT LLC      0.007842\n",
       "PAULSON & CO.INC.              0.006977\n",
       "TIGER GLOBAL MANAGEMENT LLC    0.010824\n",
       "BERKSHIRE HATHAWAY INC         0.012831\n",
       "Algo 1                         0.007988\n",
       "dtype: float64"
      ]
     },
     "execution_count": 25,
     "metadata": {},
     "output_type": "execute_result"
    }
   ],
   "source": [
    "joint_std = joint_df.std()\n",
    "joint_std.head()"
   ]
  },
  {
   "cell_type": "code",
   "execution_count": 26,
   "metadata": {},
   "outputs": [
    {
     "data": {
      "text/plain": [
       "SOROS FUND MANAGEMENT LLC      False\n",
       "PAULSON & CO.INC.              False\n",
       "TIGER GLOBAL MANAGEMENT LLC     True\n",
       "BERKSHIRE HATHAWAY INC          True\n",
       "Algo 1                         False\n",
       "Algo 2                          True\n",
       "sp500Daily Returns             False\n",
       "dtype: bool"
      ]
     },
     "execution_count": 26,
     "metadata": {},
     "output_type": "execute_result"
    }
   ],
   "source": [
    "# Determine which portfolios are riskier than the S&P 500\n",
    "# YOUR CODE HERE\n",
    "sp500_risk = joint_df[\"sp500Daily Returns\"].std()\n",
    "joint_df.std()>sp500_risk "
   ]
  },
  {
   "cell_type": "code",
   "execution_count": null,
   "metadata": {},
   "outputs": [],
   "source": []
  },
  {
   "cell_type": "code",
   "execution_count": 27,
   "metadata": {},
   "outputs": [
    {
     "data": {
      "text/plain": [
       "SOROS FUND MANAGEMENT LLC      0.124487\n",
       "PAULSON & CO.INC.              0.110754\n",
       "TIGER GLOBAL MANAGEMENT LLC    0.171830\n",
       "BERKSHIRE HATHAWAY INC         0.203682\n",
       "Algo 1                         0.126801\n",
       "dtype: float64"
      ]
     },
     "execution_count": 27,
     "metadata": {},
     "output_type": "execute_result"
    }
   ],
   "source": [
    "# Calculate the annualized standard deviation (252 trading days)\n",
    "# YOUR CODE HERE\n",
    "annualized_std = joint_df.std()*np.sqrt(252)\n",
    "annualized_std.head()"
   ]
  },
  {
   "cell_type": "markdown",
   "metadata": {},
   "source": [
    "---"
   ]
  },
  {
   "cell_type": "markdown",
   "metadata": {},
   "source": [
    "## Rolling Statistics\n",
    "\n",
    "Risk changes over time. Analyze the rolling statistics for Risk and Beta. \n",
    "\n",
    "1. Calculate and plot the rolling standard deviation for the S&PP 500 using a 21 day window\n",
    "2. Calculate the correlation between each stock to determine which portfolios may mimick the S&P 500\n",
    "2. Calculate and plot a 60 day Beta for Berkshire Hathaway Inc compared to the S&&P 500"
   ]
  },
  {
   "cell_type": "code",
   "execution_count": 31,
   "metadata": {},
   "outputs": [
    {
     "data": {
      "text/plain": [
       "<matplotlib.axes._subplots.AxesSubplot at 0x2c0ccc8e988>"
      ]
     },
     "execution_count": 31,
     "metadata": {},
     "output_type": "execute_result"
    },
    {
     "data": {
      "image/png": "[encoded data removed]",
      "text/plain": [
       "<Figure size 432x288 with 1 Axes>"
      ]
     },
     "metadata": {
      "needs_background": "light"
     },
     "output_type": "display_data"
    }
   ],
   "source": [
    "# Calculate and plot the rolling standard deviation for the S&PP 500 using a 21 day window\n",
    "# YOUR CODE HERE\n",
    "sp500_dayreturns_df.rolling(window=21).std().plot()\n"
   ]
  },
  {
   "cell_type": "code",
   "execution_count": 48,
   "metadata": {},
   "outputs": [
    {
     "data": {
      "text/html": [
       "<div>\n",
       "<style scoped>\n",
       "    .dataframe tbody tr th:only-of-type {\n",
       "        vertical-align: middle;\n",
       "    }\n",
       "\n",
       "    .dataframe tbody tr th {\n",
       "        vertical-align: top;\n",
       "    }\n",
       "\n",
       "    .dataframe thead th {\n",
       "        text-align: right;\n",
       "    }\n",
       "</style>\n",
       "<table border=\"1\" class=\"dataframe\">\n",
       "  <thead>\n",
       "    <tr style=\"text-align: right;\">\n",
       "      <th></th>\n",
       "      <th>SOROS FUND MANAGEMENT LLC</th>\n",
       "      <th>PAULSON &amp; CO.INC.</th>\n",
       "      <th>TIGER GLOBAL MANAGEMENT LLC</th>\n",
       "      <th>BERKSHIRE HATHAWAY INC</th>\n",
       "      <th>Algo 1</th>\n",
       "      <th>Algo 2</th>\n",
       "      <th>sp500Daily Returns</th>\n",
       "    </tr>\n",
       "  </thead>\n",
       "  <tbody>\n",
       "    <tr>\n",
       "      <th>SOROS FUND MANAGEMENT LLC</th>\n",
       "      <td>1.000000</td>\n",
       "      <td>0.700181</td>\n",
       "      <td>0.561745</td>\n",
       "      <td>0.754308</td>\n",
       "      <td>NaN</td>\n",
       "      <td>NaN</td>\n",
       "      <td>NaN</td>\n",
       "    </tr>\n",
       "    <tr>\n",
       "      <th>PAULSON &amp; CO.INC.</th>\n",
       "      <td>0.700181</td>\n",
       "      <td>1.000000</td>\n",
       "      <td>0.435333</td>\n",
       "      <td>0.545802</td>\n",
       "      <td>NaN</td>\n",
       "      <td>NaN</td>\n",
       "      <td>NaN</td>\n",
       "    </tr>\n",
       "    <tr>\n",
       "      <th>TIGER GLOBAL MANAGEMENT LLC</th>\n",
       "      <td>0.561745</td>\n",
       "      <td>0.435333</td>\n",
       "      <td>1.000000</td>\n",
       "      <td>0.425102</td>\n",
       "      <td>NaN</td>\n",
       "      <td>NaN</td>\n",
       "      <td>NaN</td>\n",
       "    </tr>\n",
       "    <tr>\n",
       "      <th>BERKSHIRE HATHAWAY INC</th>\n",
       "      <td>0.754308</td>\n",
       "      <td>0.545802</td>\n",
       "      <td>0.425102</td>\n",
       "      <td>1.000000</td>\n",
       "      <td>NaN</td>\n",
       "      <td>NaN</td>\n",
       "      <td>NaN</td>\n",
       "    </tr>\n",
       "    <tr>\n",
       "      <th>Algo 1</th>\n",
       "      <td>NaN</td>\n",
       "      <td>NaN</td>\n",
       "      <td>NaN</td>\n",
       "      <td>NaN</td>\n",
       "      <td>1.000000</td>\n",
       "      <td>0.346568</td>\n",
       "      <td>NaN</td>\n",
       "    </tr>\n",
       "    <tr>\n",
       "      <th>Algo 2</th>\n",
       "      <td>NaN</td>\n",
       "      <td>NaN</td>\n",
       "      <td>NaN</td>\n",
       "      <td>NaN</td>\n",
       "      <td>0.346568</td>\n",
       "      <td>1.000000</td>\n",
       "      <td>NaN</td>\n",
       "    </tr>\n",
       "    <tr>\n",
       "      <th>sp500Daily Returns</th>\n",
       "      <td>NaN</td>\n",
       "      <td>NaN</td>\n",
       "      <td>NaN</td>\n",
       "      <td>NaN</td>\n",
       "      <td>NaN</td>\n",
       "      <td>NaN</td>\n",
       "      <td>1.0</td>\n",
       "    </tr>\n",
       "  </tbody>\n",
       "</table>\n",
       "</div>"
      ],
      "text/plain": [
       "                             SOROS FUND MANAGEMENT LLC  PAULSON & CO.INC.   \\\n",
       "SOROS FUND MANAGEMENT LLC                     1.000000            0.700181   \n",
       "PAULSON & CO.INC.                             0.700181            1.000000   \n",
       "TIGER GLOBAL MANAGEMENT LLC                   0.561745            0.435333   \n",
       "BERKSHIRE HATHAWAY INC                        0.754308            0.545802   \n",
       "Algo 1                                             NaN                 NaN   \n",
       "Algo 2                                             NaN                 NaN   \n",
       "sp500Daily Returns                                 NaN                 NaN   \n",
       "\n",
       "                             TIGER GLOBAL MANAGEMENT LLC  \\\n",
       "SOROS FUND MANAGEMENT LLC                       0.561745   \n",
       "PAULSON & CO.INC.                               0.435333   \n",
       "TIGER GLOBAL MANAGEMENT LLC                     1.000000   \n",
       "BERKSHIRE HATHAWAY INC                          0.425102   \n",
       "Algo 1                                               NaN   \n",
       "Algo 2                                               NaN   \n",
       "sp500Daily Returns                                   NaN   \n",
       "\n",
       "                             BERKSHIRE HATHAWAY INC    Algo 1    Algo 2  \\\n",
       "SOROS FUND MANAGEMENT LLC                  0.754308       NaN       NaN   \n",
       "PAULSON & CO.INC.                          0.545802       NaN       NaN   \n",
       "TIGER GLOBAL MANAGEMENT LLC                0.425102       NaN       NaN   \n",
       "BERKSHIRE HATHAWAY INC                     1.000000       NaN       NaN   \n",
       "Algo 1                                          NaN  1.000000  0.346568   \n",
       "Algo 2                                          NaN  0.346568  1.000000   \n",
       "sp500Daily Returns                              NaN       NaN       NaN   \n",
       "\n",
       "                             sp500Daily Returns  \n",
       "SOROS FUND MANAGEMENT LLC                   NaN  \n",
       "PAULSON & CO.INC.                           NaN  \n",
       "TIGER GLOBAL MANAGEMENT LLC                 NaN  \n",
       "BERKSHIRE HATHAWAY INC                      NaN  \n",
       "Algo 1                                      NaN  \n",
       "Algo 2                                      NaN  \n",
       "sp500Daily Returns                          1.0  "
      ]
     },
     "execution_count": 48,
     "metadata": {},
     "output_type": "execute_result"
    }
   ],
   "source": [
    "# Correlation\n",
    "# YOUR CODE HERE\n",
    "returns_correlation = joint_df.corr()\n",
    "returns_correlation\n"
   ]
  },
  {
   "cell_type": "code",
   "execution_count": 87,
   "metadata": {},
   "outputs": [
    {
     "name": "stdout",
     "output_type": "stream",
     "text": [
      "            SOROS FUND MANAGEMENT LLC  PAULSON & CO.INC.   \\\n",
      "Date                                                        \n",
      "2015-03-03                  -0.001266           -0.004981   \n",
      "2015-03-04                   0.002230            0.003241   \n",
      "2015-03-05                   0.004016            0.004076   \n",
      "2015-03-06                  -0.007905           -0.003574   \n",
      "2015-03-09                   0.000582            0.004225   \n",
      "...                               ...                 ...   \n",
      "2019-04-15                  -0.001422           -0.001156   \n",
      "2019-04-16                   0.002699            0.000388   \n",
      "2019-04-17                  -0.002897           -0.006467   \n",
      "2019-04-18                   0.001448            0.001222   \n",
      "2019-04-22                  -0.002586           -0.007333   \n",
      "\n",
      "            TIGER GLOBAL MANAGEMENT LLC  BERKSHIRE HATHAWAY INC    Algo 1  \\\n",
      "Date                                                                        \n",
      "2015-03-03                    -0.000496               -0.006569 -0.001942   \n",
      "2015-03-04                    -0.002534                0.004213 -0.008589   \n",
      "2015-03-05                     0.002355                0.006726 -0.000955   \n",
      "2015-03-06                    -0.008481               -0.013098 -0.004957   \n",
      "2015-03-09                     0.005843               -0.001652 -0.005447   \n",
      "...                                 ...                     ...       ...   \n",
      "2019-04-15                     0.000398               -0.010492 -0.004331   \n",
      "2019-04-16                    -0.000831                0.000837 -0.006945   \n",
      "2019-04-17                    -0.004409                0.003222 -0.010301   \n",
      "2019-04-18                     0.000582                0.001916 -0.000588   \n",
      "2019-04-22                    -0.003640               -0.001088  0.000677   \n",
      "\n",
      "              Algo 2  sp500Daily Returns  \n",
      "Date                                      \n",
      "2015-03-03 -0.000949            0.004408  \n",
      "2015-03-04  0.002416           -0.001195  \n",
      "2015-03-05  0.004323            0.014378  \n",
      "2015-03-06 -0.011460           -0.003929  \n",
      "2015-03-09  0.001303            0.017254  \n",
      "...              ...                 ...  \n",
      "2019-04-15 -0.004572           -0.000509  \n",
      "2019-04-16  0.002899            0.002279  \n",
      "2019-04-17 -0.005228           -0.001577  \n",
      "2019-04-18 -0.001229           -0.001011  \n",
      "2019-04-22 -0.001936           -0.008764  \n",
      "\n",
      "[1042 rows x 7 columns]\n",
      "Date\n",
      "2015-03-03         NaN\n",
      "2015-03-04         NaN\n",
      "2015-03-05         NaN\n",
      "2015-03-06         NaN\n",
      "2015-03-09         NaN\n",
      "                ...   \n",
      "2019-04-15    0.076691\n",
      "2019-04-16    0.049798\n",
      "2019-04-17    0.052319\n",
      "2019-04-18    0.052270\n",
      "2019-04-22    0.068354\n",
      "Length: 1042, dtype: float64\n"
     ]
    },
    {
     "data": {
      "text/plain": [
       "<matplotlib.axes._subplots.AxesSubplot at 0x2c0cea73dc8>"
      ]
     },
     "execution_count": 87,
     "metadata": {},
     "output_type": "execute_result"
    },
    {
     "data": {
      "image/png": "[encoded data removed]",
      "text/plain": [
       "<Figure size 1440x720 with 1 Axes>"
      ]
     },
     "metadata": {
      "needs_background": "light"
     },
     "output_type": "display_data"
    }
   ],
   "source": [
    "# Calculate Beta for a single portfolio compared to the total market (S&P 500)\n",
    "# YOUR CODE HERE\n",
    "print(joint_df)\n",
    "variance = joint_df[\"BERKSHIRE HATHAWAY INC\"].rolling(window=60).var()\n",
    "variance\n",
    "covariance = joint_df[\"BERKSHIRE HATHAWAY INC\"].rolling(window=60).cov(joint_df[\"sp500Daily Returns\"])\n",
    "whale_beta = covariance/variance\n",
    "whale_beta.dropna()\n",
    "print(whale_beta)\n",
    "whale_beta.plot(figsize=(20, 10), title=\"Berkshire Hathaway Inc. Beta\")\n"
   ]
  },
  {
   "cell_type": "markdown",
   "metadata": {},
   "source": [
    "### Challenge: Exponentially Weighted Average \n",
    "\n",
    "An alternative way to calculate a rollwing window is to take the exponentially weighted moving average. This is like a moving window average, but it assigns greater importance to more recent observations. Try calculating the `ewm` with a 21 day half-life."
   ]
  },
  {
   "cell_type": "code",
   "execution_count": 24,
   "metadata": {},
   "outputs": [],
   "source": [
    "# (OPTIONAL) YOUR CODE HERE"
   ]
  },
  {
   "cell_type": "markdown",
   "metadata": {},
   "source": [
    "---"
   ]
  },
  {
   "cell_type": "markdown",
   "metadata": {},
   "source": [
    "## Sharpe Ratios\n",
    "In reality, investment managers and thier institutional investors look at the ratio of return-to-risk, and not just returns alone. (After all, if you could invest in one of two portfolios, each offered the same 10% return, yet one offered lower risk, you'd take that one, right?)\n",
    "\n",
    "Calculate and plot the annualized Sharpe ratios for all portfolios to determine which portfolio has the best performance"
   ]
  },
  {
   "cell_type": "code",
   "execution_count": 88,
   "metadata": {},
   "outputs": [],
   "source": [
    "# Annualzied Sharpe Ratios\n",
    "# YOUR CODE HERE\n",
    "sharpe_ratios = (joint_df.mean()*252)/(joint_df.std()*np.sqrt(252))\n"
   ]
  },
  {
   "cell_type": "markdown",
   "metadata": {},
   "source": [
    " plot() these sharpe ratios using a barplot.\n",
    " On the basis of this performance metric, do our algo strategies outperform both 'the market' and the whales?"
   ]
  },
  {
   "cell_type": "code",
   "execution_count": 89,
   "metadata": {},
   "outputs": [
    {
     "data": {
      "text/plain": [
       "<matplotlib.axes._subplots.AxesSubplot at 0x2c0cc23aac8>"
      ]
     },
     "execution_count": 89,
     "metadata": {},
     "output_type": "execute_result"
    },
    {
     "data": {
      "image/png": "[encoded data removed]",
      "text/plain": [
       "<Figure size 432x288 with 1 Axes>"
      ]
     },
     "metadata": {
      "needs_background": "light"
     },
     "output_type": "display_data"
    }
   ],
   "source": [
    "# Visualize the sharpe ratios as a bar plot\n",
    "# YOUR CODE HERE\n",
    "sharpe_ratios.plot(kind=\"bar\", title=\"Sharpe Ratios\")"
   ]
  },
  {
   "cell_type": "markdown",
   "metadata": {},
   "source": [
    "---"
   ]
  },
  {
   "cell_type": "markdown",
   "metadata": {},
   "source": [
    "# Portfolio Returns\n",
    "\n",
    "In this section, you will build your own portfolio of stocks, calculate the returns, and compare the results to the Whale Portfolios and the S&P 500. \n",
    "\n",
    "1. Choose 3-5 custom stocks with at last 1 year's worth of historic prices and create a DataFrame of the closing prices and dates for each stock.\n",
    "2. Calculate the weighted returns for the portfolio assuming an equal number of shares for each stock\n",
    "3. Join your portfolio returns to the DataFrame that contains all of the portfolio returns\n",
    "4. Re-run the performance and risk analysis with your portfolio to see how it compares to the others\n",
    "5. Include correlation analysis to determine which stocks (if any) are correlated"
   ]
  },
  {
   "cell_type": "markdown",
   "metadata": {},
   "source": [
    "## Choose 3-5 custom stocks with at last 1 year's worth of historic prices and create a DataFrame of the closing prices and dates for each stock."
   ]
  },
  {
   "cell_type": "code",
   "execution_count": 90,
   "metadata": {},
   "outputs": [],
   "source": [
    "# Read the first stock\n",
    "# YOUR CODE HERE\n",
    "Johnson_Johnson_Prices_csv = Path(\"./Resources/Johnson&Johnson_Prices.csv\")"
   ]
  },
  {
   "cell_type": "code",
   "execution_count": 91,
   "metadata": {},
   "outputs": [
    {
     "data": {
      "text/plain": [
       "WindowsPath('Resources/Merck_Prices.csv')"
      ]
     },
     "execution_count": 91,
     "metadata": {},
     "output_type": "execute_result"
    }
   ],
   "source": [
    "# Read the second stock\n",
    "# YOUR CODE HERE\n",
    "Merck_Prices_csv = Path(\"./Resources/Merck_Prices.csv\")\n",
    "Merck_Prices_csv\n"
   ]
  },
  {
   "cell_type": "code",
   "execution_count": 66,
   "metadata": {},
   "outputs": [
    {
     "data": {
      "text/html": [
       "<div>\n",
       "<style scoped>\n",
       "    .dataframe tbody tr th:only-of-type {\n",
       "        vertical-align: middle;\n",
       "    }\n",
       "\n",
       "    .dataframe tbody tr th {\n",
       "        vertical-align: top;\n",
       "    }\n",
       "\n",
       "    .dataframe thead th {\n",
       "        text-align: right;\n",
       "    }\n",
       "</style>\n",
       "<table border=\"1\" class=\"dataframe\">\n",
       "  <thead>\n",
       "    <tr style=\"text-align: right;\">\n",
       "      <th></th>\n",
       "      <th>Close</th>\n",
       "    </tr>\n",
       "    <tr>\n",
       "      <th>Date</th>\n",
       "      <th></th>\n",
       "    </tr>\n",
       "  </thead>\n",
       "  <tbody>\n",
       "    <tr>\n",
       "      <th>2019-04-09</th>\n",
       "      <td>78.67</td>\n",
       "    </tr>\n",
       "    <tr>\n",
       "      <th>2019-04-10</th>\n",
       "      <td>78.97</td>\n",
       "    </tr>\n",
       "    <tr>\n",
       "      <th>2019-04-11</th>\n",
       "      <td>78.51</td>\n",
       "    </tr>\n",
       "    <tr>\n",
       "      <th>2019-04-12</th>\n",
       "      <td>78.01</td>\n",
       "    </tr>\n",
       "    <tr>\n",
       "      <th>2019-04-15</th>\n",
       "      <td>77.50</td>\n",
       "    </tr>\n",
       "  </tbody>\n",
       "</table>\n",
       "</div>"
      ],
      "text/plain": [
       "            Close\n",
       "Date             \n",
       "2019-04-09  78.67\n",
       "2019-04-10  78.97\n",
       "2019-04-11  78.51\n",
       "2019-04-12  78.01\n",
       "2019-04-15  77.50"
      ]
     },
     "execution_count": 66,
     "metadata": {},
     "output_type": "execute_result"
    }
   ],
   "source": [
    "# Read the third stock\n",
    "# YOUR CODE HERE\n",
    "Abbott_Labs_Prices_csv = Path(\"./Resources/Abbott Labs Prices.csv\")\n",
    "Abbott_Labs_Prices_df = pd.read_csv(Abbott_Labs_Prices_csv, index_col=\"Date\", infer_datetime_format=True, parse_dates=True)\n",
    "Abbott_Labs_Prices_df.head()"
   ]
  },
  {
   "cell_type": "code",
   "execution_count": 56,
   "metadata": {},
   "outputs": [
    {
     "ename": "TypeError",
     "evalue": "cannot concatenate object of type '<class 'pathlib.WindowsPath'>'; only Series and DataFrame objs are valid",
     "output_type": "error",
     "traceback": [
      "\u001b[1;31m---------------------------------------------------------------------------\u001b[0m",
      "\u001b[1;31mTypeError\u001b[0m                                 Traceback (most recent call last)",
      "\u001b[1;32m<ipython-input-56-fe715708dc84>\u001b[0m in \u001b[0;36m<module>\u001b[1;34m\u001b[0m\n\u001b[0;32m      1\u001b[0m \u001b[1;31m# Concatenate all stocks into a single DataFrame\u001b[0m\u001b[1;33m\u001b[0m\u001b[1;33m\u001b[0m\u001b[1;33m\u001b[0m\u001b[0m\n\u001b[0;32m      2\u001b[0m \u001b[1;31m# YOUR CODE HERE\u001b[0m\u001b[1;33m\u001b[0m\u001b[1;33m\u001b[0m\u001b[1;33m\u001b[0m\u001b[0m\n\u001b[1;32m----> 3\u001b[1;33m \u001b[0mPharma_stocks_df\u001b[0m \u001b[1;33m=\u001b[0m \u001b[0mpd\u001b[0m\u001b[1;33m.\u001b[0m\u001b[0mconcat\u001b[0m\u001b[1;33m(\u001b[0m\u001b[1;33m[\u001b[0m\u001b[0mJohnson_Johnson_Prices_csv\u001b[0m\u001b[1;33m,\u001b[0m \u001b[0mMerck_Prices_csv\u001b[0m\u001b[1;33m,\u001b[0m \u001b[0mAbbott_Labs_Prices_csv\u001b[0m\u001b[1;33m]\u001b[0m\u001b[1;33m)\u001b[0m\u001b[1;33m\u001b[0m\u001b[1;33m\u001b[0m\u001b[0m\n\u001b[0m\u001b[0;32m      4\u001b[0m \u001b[0mPharma_stocks_df\u001b[0m\u001b[1;33m.\u001b[0m\u001b[0mhead\u001b[0m\u001b[1;33m(\u001b[0m\u001b[1;36m10\u001b[0m\u001b[1;33m)\u001b[0m\u001b[1;33m\u001b[0m\u001b[1;33m\u001b[0m\u001b[0m\n",
      "\u001b[1;32m~\\anaconda3\\envs\\FinTech\\lib\\site-packages\\pandas\\core\\reshape\\concat.py\u001b[0m in \u001b[0;36mconcat\u001b[1;34m(objs, axis, join, ignore_index, keys, levels, names, verify_integrity, sort, copy)\u001b[0m\n\u001b[0;32m    279\u001b[0m         \u001b[0mverify_integrity\u001b[0m\u001b[1;33m=\u001b[0m\u001b[0mverify_integrity\u001b[0m\u001b[1;33m,\u001b[0m\u001b[1;33m\u001b[0m\u001b[1;33m\u001b[0m\u001b[0m\n\u001b[0;32m    280\u001b[0m         \u001b[0mcopy\u001b[0m\u001b[1;33m=\u001b[0m\u001b[0mcopy\u001b[0m\u001b[1;33m,\u001b[0m\u001b[1;33m\u001b[0m\u001b[1;33m\u001b[0m\u001b[0m\n\u001b[1;32m--> 281\u001b[1;33m         \u001b[0msort\u001b[0m\u001b[1;33m=\u001b[0m\u001b[0msort\u001b[0m\u001b[1;33m,\u001b[0m\u001b[1;33m\u001b[0m\u001b[1;33m\u001b[0m\u001b[0m\n\u001b[0m\u001b[0;32m    282\u001b[0m     )\n\u001b[0;32m    283\u001b[0m \u001b[1;33m\u001b[0m\u001b[0m\n",
      "\u001b[1;32m~\\anaconda3\\envs\\FinTech\\lib\\site-packages\\pandas\\core\\reshape\\concat.py\u001b[0m in \u001b[0;36m__init__\u001b[1;34m(self, objs, axis, join, keys, levels, names, ignore_index, verify_integrity, copy, sort)\u001b[0m\n\u001b[0;32m    355\u001b[0m                     \u001b[1;34m\"only Series and DataFrame objs are valid\"\u001b[0m\u001b[1;33m.\u001b[0m\u001b[0mformat\u001b[0m\u001b[1;33m(\u001b[0m\u001b[0mtyp\u001b[0m\u001b[1;33m=\u001b[0m\u001b[0mtype\u001b[0m\u001b[1;33m(\u001b[0m\u001b[0mobj\u001b[0m\u001b[1;33m)\u001b[0m\u001b[1;33m)\u001b[0m\u001b[1;33m\u001b[0m\u001b[1;33m\u001b[0m\u001b[0m\n\u001b[0;32m    356\u001b[0m                 )\n\u001b[1;32m--> 357\u001b[1;33m                 \u001b[1;32mraise\u001b[0m \u001b[0mTypeError\u001b[0m\u001b[1;33m(\u001b[0m\u001b[0mmsg\u001b[0m\u001b[1;33m)\u001b[0m\u001b[1;33m\u001b[0m\u001b[1;33m\u001b[0m\u001b[0m\n\u001b[0m\u001b[0;32m    358\u001b[0m \u001b[1;33m\u001b[0m\u001b[0m\n\u001b[0;32m    359\u001b[0m             \u001b[1;31m# consolidate\u001b[0m\u001b[1;33m\u001b[0m\u001b[1;33m\u001b[0m\u001b[1;33m\u001b[0m\u001b[0m\n",
      "\u001b[1;31mTypeError\u001b[0m: cannot concatenate object of type '<class 'pathlib.WindowsPath'>'; only Series and DataFrame objs are valid"
     ]
    }
   ],
   "source": [
    "# Concatenate all stocks into a single DataFrame\n",
    "# YOUR CODE HERE\n",
    "Pharma_stocks_df = pd.concat([Johnson_Johnson_Prices_csv, Merck_Prices_csv, Abbott_Labs_Prices_csv])\n",
    "Pharma_stocks_df.head(10)"
   ]
  },
  {
   "cell_type": "code",
   "execution_count": 31,
   "metadata": {},
   "outputs": [],
   "source": [
    "# Reset the index\n",
    "# YOUR CODE HERE\n",
    "Pharma_stocks_df = pd.read_csv(Pharma_stocks_csv, index_col=\"Date\", infer_datetime_format=True)\n",
    "Pharma_stocks_df.head(10)"
   ]
  },
  {
   "cell_type": "code",
   "execution_count": 33,
   "metadata": {},
   "outputs": [],
   "source": [
    "# Drop Nulls\n",
    "# YOUR CODE HERE"
   ]
  },
  {
   "cell_type": "markdown",
   "metadata": {},
   "source": [
    "## Calculate the weighted returns for the portfolio assuming an equal number of shares for each stock"
   ]
  },
  {
   "cell_type": "code",
   "execution_count": 34,
   "metadata": {},
   "outputs": [],
   "source": [
    "# Calculate weighted portfolio returns\n",
    "weights = [1/3, 1/3, 1/3]\n",
    "# YOUR CODE HERE"
   ]
  },
  {
   "cell_type": "markdown",
   "metadata": {},
   "source": [
    "## Join your portfolio returns to the DataFrame that contains all of the portfolio returns"
   ]
  },
  {
   "cell_type": "code",
   "execution_count": 35,
   "metadata": {},
   "outputs": [],
   "source": [
    "# YOUR CODE HERE"
   ]
  },
  {
   "cell_type": "code",
   "execution_count": 36,
   "metadata": {},
   "outputs": [],
   "source": [
    "# Only compare dates where return data exists for all the stocks (drop NaNs)\n",
    "# YOUR CODE HERE"
   ]
  },
  {
   "cell_type": "markdown",
   "metadata": {},
   "source": [
    "## Re-run the performance and risk analysis with your portfolio to see how it compares to the others"
   ]
  },
  {
   "cell_type": "code",
   "execution_count": 37,
   "metadata": {},
   "outputs": [],
   "source": [
    "# Risk\n",
    "# YOUR CODE HERE"
   ]
  },
  {
   "cell_type": "code",
   "execution_count": 38,
   "metadata": {},
   "outputs": [],
   "source": [
    "# Rolling\n",
    "# YOUR CODE HERE"
   ]
  },
  {
   "cell_type": "code",
   "execution_count": 39,
   "metadata": {},
   "outputs": [],
   "source": [
    "# Beta\n",
    "# YOUR CODE HERE"
   ]
  },
  {
   "cell_type": "code",
   "execution_count": 40,
   "metadata": {},
   "outputs": [],
   "source": [
    "# Annualzied Sharpe Ratios\n",
    "# YOUR CODE HERE"
   ]
  },
  {
   "cell_type": "code",
   "execution_count": 41,
   "metadata": {},
   "outputs": [],
   "source": [
    "# Visualize the sharpe ratios as a bar plot\n",
    "# YOUR CODE HERE"
   ]
  },
  {
   "cell_type": "markdown",
   "metadata": {},
   "source": [
    "## Include correlation analysis to determine which stocks (if any) are correlated"
   ]
  },
  {
   "cell_type": "code",
   "execution_count": 42,
   "metadata": {},
   "outputs": [],
   "source": [
    "# YOUR CODE HERE"
   ]
  },
  {
   "cell_type": "code",
   "execution_count": null,
   "metadata": {},
   "outputs": [],
   "source": []
  },
  {
   "cell_type": "code",
   "execution_count": null,
   "metadata": {},
   "outputs": [],
   "source": []
  }
 ],
 "metadata": {
  "file_extension": ".py",
  "kernel_info": {
   "name": "dev"
  },
  "kernelspec": {
   "display_name": "Python 3",
   "language": "python",
   "name": "python3"
  },
  "language_info": {
   "codemirror_mode": {
    "name": "ipython",
    "version": 3
   },
   "file_extension": ".py",
   "mimetype": "text/x-python",
   "name": "python",
   "nbconvert_exporter": "python",
   "pygments_lexer": "ipython3",
   "version": "3.7.6"
  },
  "mimetype": "text/x-python",
  "name": "python",
  "npconvert_exporter": "python",
  "nteract": {
   "version": "0.12.3"
  },
  "pygments_lexer": "ipython3",
  "version": 3
 },
 "nbformat": 4,
 "nbformat_minor": 4
}
