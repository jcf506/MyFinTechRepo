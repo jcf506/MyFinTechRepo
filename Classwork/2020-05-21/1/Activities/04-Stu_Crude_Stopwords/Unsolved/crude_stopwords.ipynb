{
 "cells": [
  {
   "cell_type": "markdown",
   "metadata": {},
   "source": [
    "# Students Do: Crude Stopwords\n",
    "For this activity, create a function that takes in an article and outputs a list of words that is free of stopwords and any non-letter characters. After looking at the results, define your own list of stopwords to add to the NLTK default set. "
   ]
  },
  {
   "cell_type": "code",
   "execution_count": 9,
   "metadata": {},
   "outputs": [
    {
     "name": "stderr",
     "output_type": "stream",
     "text": [
      "[nltk_data] Downloading package stopwords to\n",
      "[nltk_data]     C:\\Users\\User\\AppData\\Roaming\\nltk_data...\n",
      "[nltk_data]   Unzipping corpora\\stopwords.zip.\n"
     ]
    },
    {
     "data": {
      "text/plain": [
       "True"
      ]
     },
     "execution_count": 9,
     "metadata": {},
     "output_type": "execute_result"
    }
   ],
   "source": [
    "from nltk.corpus import reuters, stopwords\n",
    "from nltk.tokenize import word_tokenize\n",
    "import re\n",
    "import nltk\n",
    "nltk.download('stopwords')"
   ]
  },
  {
   "cell_type": "code",
   "execution_count": 10,
   "metadata": {},
   "outputs": [],
   "source": [
    "crude_article = reuters.raw(fileids=reuters.fileids(categories='crude')[2])"
   ]
  },
  {
   "cell_type": "code",
   "execution_count": 11,
   "metadata": {},
   "outputs": [
    {
     "name": "stdout",
     "output_type": "stream",
     "text": [
      "TURKEY CALLS FOR DIALOGUE TO SOLVE DISPUTE\n",
      "  Turkey said today its disputes with\n",
      "  Greece, including rights on the continental shelf in the Aegean\n",
      "  Sea, should be solved through negotiations.\n",
      "      A Foreign Ministry statement said the latest crisis between\n",
      "  the two NATO members stemmed from the continental shelf dispute\n",
      "  and an agreement on this issue would effect the security,\n",
      "  economy and other rights of both countries.\n",
      "      \"As the issue is basicly political, a solution can only be\n",
      "  found by bilateral negotiations,\" the statement said. Greece has\n",
      "  repeatedly said the issue was legal and could be solved at the\n",
      "  International Court of Justice.\n",
      "      The two countries approached armed confrontation last month\n",
      "  after Greece announced it planned oil exploration work in the\n",
      "  Aegean and Turkey said it would also search for oil.\n",
      "      A face-off was averted when Turkey confined its research to\n",
      "  territorrial waters. \"The latest crises created an historic\n",
      "  opportunity to solve the disputes between the two countries,\"\n",
      "  the Foreign Ministry statement said.\n",
      "      Turkey's ambassador in Athens, Nazmi Akiman, was due to\n",
      "  meet Prime Minister Andreas Papandreou today for the Greek\n",
      "  reply to a message sent last week by Turkish Prime Minister\n",
      "  Turgut Ozal. The contents of the message were not disclosed.\n",
      "  \n",
      "\n",
      "\n"
     ]
    }
   ],
   "source": [
    "print(crude_article)"
   ]
  },
  {
   "cell_type": "code",
   "execution_count": 12,
   "metadata": {},
   "outputs": [],
   "source": [
    "# define stopwording and regex \n",
    "def clean_text(article):\n",
    "    sw = set(stopwords.words('english'))\n",
    "    regex = re.compile(\"[^a-zA-Z ]\")\n",
    "    \n",
    "    re_clean = regex.sub('', article)\n",
    "    words = word_tokenize(re_clean)\n",
    "    output = [word.lower() for word in words if word.lower() not in sw]\n",
    "    return output"
   ]
  },
  {
   "cell_type": "code",
   "execution_count": 13,
   "metadata": {},
   "outputs": [],
   "source": [
    "result = clean_text(crude_article)"
   ]
  },
  {
   "cell_type": "code",
   "execution_count": 14,
   "metadata": {},
   "outputs": [
    {
     "name": "stdout",
     "output_type": "stream",
     "text": [
      "{'oil', 'turkey', 'due', 'also', 'court', 'greece', 'turkish', 'prime', 'basicly', 'security', 'armed', 'disclosed', 'athens', 'members', 'averted', 'sent', 'solve', 'solution', 'today', 'two', 'turkeys', 'justice', 'including', 'international', 'issue', 'ozal', 'calls', 'aegean', 'stemmed', 'solved', 'nato', 'planned', 'would', 'negotiations', 'disputes', 'crises', 'andreas', 'waters', 'greek', 'latest', 'announced', 'sea', 'shelf', 'rights', 'agreement', 'bilateral', 'search', 'nazmi', 'week', 'confined', 'effect', 'economy', 'research', 'papandreou', 'political', 'crisis', 'work', 'historic', 'confrontation', 'opportunity', 'territorrial', 'last', 'continental', 'ministry', 'exploration', 'month', 'minister', 'reply', 'turgut', 'ambassador', 'repeatedly', 'meet', 'dialogue', 'contents', 'legal', 'foreign', 'message', 'statement', 'faceoff', 'found', 'akiman', 'created', 'dispute', 'could', 'countries', 'approached', 'said'}\n"
     ]
    }
   ],
   "source": [
    "print(set(result))"
   ]
  },
  {
   "cell_type": "code",
   "execution_count": 15,
   "metadata": {},
   "outputs": [],
   "source": [
    "def clean_text(article):\n",
    "    sw = set(stopwords.words('english'))\n",
    "    regex = re.compile(\"[^a-zA-Z ]\")\n",
    "    sw_addons = {'said', 'sent', 'found', 'including', 'today', 'announced', 'week', 'basically', 'also'}\n",
    "    \n",
    "    re_clean = regex.sub('', article)\n",
    "    words = word_tokenize(re_clean)\n",
    "    output = [word.lower() for word in words if word.lower() not in sw.union(sw_addons)]\n",
    "    return output"
   ]
  },
  {
   "cell_type": "code",
   "execution_count": 16,
   "metadata": {},
   "outputs": [
    {
     "name": "stdout",
     "output_type": "stream",
     "text": [
      "{'oil', 'turkey', 'due', 'court', 'greece', 'turkish', 'prime', 'basicly', 'security', 'armed', 'disclosed', 'athens', 'members', 'averted', 'solve', 'solution', 'two', 'turkeys', 'justice', 'international', 'issue', 'ozal', 'calls', 'aegean', 'stemmed', 'solved', 'nato', 'planned', 'would', 'negotiations', 'disputes', 'crises', 'andreas', 'waters', 'greek', 'latest', 'sea', 'shelf', 'rights', 'agreement', 'bilateral', 'search', 'nazmi', 'confined', 'effect', 'economy', 'research', 'papandreou', 'political', 'crisis', 'work', 'historic', 'confrontation', 'opportunity', 'territorrial', 'last', 'continental', 'ministry', 'exploration', 'month', 'minister', 'reply', 'turgut', 'ambassador', 'repeatedly', 'meet', 'dialogue', 'contents', 'legal', 'foreign', 'message', 'statement', 'faceoff', 'akiman', 'created', 'dispute', 'could', 'countries', 'approached'}\n"
     ]
    }
   ],
   "source": [
    "result2 = clean_text(crude_article)\n",
    "print(set(result2))"
   ]
  },
  {
   "cell_type": "code",
   "execution_count": null,
   "metadata": {},
   "outputs": [],
   "source": []
  }
 ],
 "metadata": {
  "kernelspec": {
   "display_name": "Python (Viz)",
   "language": "python",
   "name": "viz"
  },
  "language_info": {
   "codemirror_mode": {
    "name": "ipython",
    "version": 3
   },
   "file_extension": ".py",
   "mimetype": "text/x-python",
   "name": "python",
   "nbconvert_exporter": "python",
   "pygments_lexer": "ipython3",
   "version": "3.7.7"
  }
 },
 "nbformat": 4,
 "nbformat_minor": 4
}
