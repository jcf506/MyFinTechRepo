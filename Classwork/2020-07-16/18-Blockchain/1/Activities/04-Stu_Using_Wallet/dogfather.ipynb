{
 "cells": [
  {
   "cell_type": "code",
   "execution_count": 1,
   "metadata": {},
   "outputs": [],
   "source": [
    "from bit import wif_to_key"
   ]
  },
  {
   "cell_type": "code",
   "execution_count": 2,
   "metadata": {},
   "outputs": [],
   "source": [
    "key = wif_to_key(\"cPTpmZBXQts79U14zytvUgnvDyoY8A3SGV5UiRwbuwPdYNThe7Wt\")"
   ]
  },
  {
   "cell_type": "code",
   "execution_count": 3,
   "metadata": {},
   "outputs": [
    {
     "data": {
      "text/plain": [
       "'0.00095'"
      ]
     },
     "execution_count": 3,
     "metadata": {},
     "output_type": "execute_result"
    }
   ],
   "source": [
    "key.get_balance(\"btc\")"
   ]
  },
  {
   "cell_type": "code",
   "execution_count": 4,
   "metadata": {},
   "outputs": [
    {
     "data": {
      "text/plain": [
       "'8.7'"
      ]
     },
     "execution_count": 4,
     "metadata": {},
     "output_type": "execute_result"
    }
   ],
   "source": [
    "key.balance_as(\"usd\")"
   ]
  },
  {
   "cell_type": "code",
   "execution_count": 8,
   "metadata": {},
   "outputs": [],
   "source": [
    "addresses = [\"mj6y5iYnDYM45bWic86Ht8AgB15BVnw6vE\", \"mvUyjXK5HE6oMwqbKcBsXxFuqMyYdd3T6P\", \"mhy7BVKpZzm23rRtNrHrrPwhgMLyGHT81F\"]"
   ]
  },
  {
   "cell_type": "code",
   "execution_count": 9,
   "metadata": {},
   "outputs": [
    {
     "name": "stdout",
     "output_type": "stream",
     "text": [
      "9508f8b5a111667123e945d0130a044c0767d1602703d54e613546f486f6dded\n"
     ]
    }
   ],
   "source": [
    "outputs = []\n",
    "for address in addresses:\n",
    "    outputs.append((address, 0.0001, \"btc\"))\n",
    "    \n",
    "print(key.send(outputs))"
   ]
  },
  {
   "cell_type": "code",
   "execution_count": 10,
   "metadata": {},
   "outputs": [
    {
     "data": {
      "text/plain": [
       "'0.0004252'"
      ]
     },
     "execution_count": 10,
     "metadata": {},
     "output_type": "execute_result"
    }
   ],
   "source": [
    "key.get_balance(\"btc\")"
   ]
  },
  {
   "cell_type": "code",
   "execution_count": 11,
   "metadata": {},
   "outputs": [
    {
     "data": {
      "text/plain": [
       "'3.89'"
      ]
     },
     "execution_count": 11,
     "metadata": {},
     "output_type": "execute_result"
    }
   ],
   "source": [
    "key.balance_as(\"usd\")"
   ]
  },
  {
   "cell_type": "code",
   "execution_count": 12,
   "metadata": {},
   "outputs": [
    {
     "data": {
      "text/plain": [
       "['9508f8b5a111667123e945d0130a044c0767d1602703d54e613546f486f6dded',\n",
       " '1840fb8f7aa177aad515a92dc32ac7f3291c93557c110744fac8cad151fab4a9',\n",
       " '3b5a22e00e24bb7a5cdabf452da4daa1168f4fecc31fdc1c2450df96faf589c8',\n",
       " 'bd2e1868ddada74d8b11f095340c265a4e74f64a7f8af41df35aa9ee43ab8f55']"
      ]
     },
     "execution_count": 12,
     "metadata": {},
     "output_type": "execute_result"
    }
   ],
   "source": [
    "key.get_transactions()"
   ]
  },
  {
   "cell_type": "code",
   "execution_count": 13,
   "metadata": {},
   "outputs": [
    {
     "data": {
      "text/plain": [
       "[Unspent(amount=42520, confirmations=-1781066, script='76a914ed4466a13a1bde87b5902c643fca77e1704d361b88ac', txid='9508f8b5a111667123e945d0130a044c0767d1602703d54e613546f486f6dded', txindex=3, segwit=False)]"
      ]
     },
     "execution_count": 13,
     "metadata": {},
     "output_type": "execute_result"
    }
   ],
   "source": [
    "key.get_unspents()"
   ]
  },
  {
   "cell_type": "code",
   "execution_count": 14,
   "metadata": {},
   "outputs": [
    {
     "data": {
      "text/plain": [
       "'42520'"
      ]
     },
     "execution_count": 14,
     "metadata": {},
     "output_type": "execute_result"
    }
   ],
   "source": [
    "key.get_balance()"
   ]
  },
  {
   "cell_type": "code",
   "execution_count": null,
   "metadata": {},
   "outputs": [],
   "source": []
  }
 ],
 "metadata": {
  "kernelspec": {
   "display_name": "Python (Viz)",
   "language": "python",
   "name": "viz"
  },
  "language_info": {
   "codemirror_mode": {
    "name": "ipython",
    "version": 3
   },
   "file_extension": ".py",
   "mimetype": "text/x-python",
   "name": "python",
   "nbconvert_exporter": "python",
   "pygments_lexer": "ipython3",
   "version": "3.7.7"
  }
 },
 "nbformat": 4,
 "nbformat_minor": 4
}
