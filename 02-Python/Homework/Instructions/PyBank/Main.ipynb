{
 "cells": [
  {
   "cell_type": "code",
   "execution_count": 20,
   "metadata": {},
   "outputs": [
    {
     "name": "stdout",
     "output_type": "stream",
     "text": [
      "C:\\Users\\User\\source\\FinTech\\MyFinTechRepo\\02-Python\\Homework\\Instructions\\PyBank\n"
     ]
    }
   ],
   "source": [
    "import os\n",
    "path =os.getcwd()\n",
    "print(path)\n",
    "\n",
    "\n",
    "\n"
   ]
  },
  {
   "cell_type": "code",
   "execution_count": 21,
   "metadata": {},
   "outputs": [],
   "source": [
    "import pandas as pd \n",
    "from pathlib import Path\n",
    "import csv\n",
    "\n"
   ]
  },
  {
   "cell_type": "code",
   "execution_count": 22,
   "metadata": {},
   "outputs": [],
   "source": [
    "file_path = Path('Resources/budget_data.csv')\n"
   ]
  },
  {
   "cell_type": "code",
   "execution_count": 23,
   "metadata": {},
   "outputs": [],
   "source": [
    "\n",
    "budget_data_csv = pd.read_csv('Resources/budget_data.csv')\n"
   ]
  },
  {
   "cell_type": "code",
   "execution_count": 24,
   "metadata": {},
   "outputs": [],
   "source": [
    "#The total number of months in the Data set\n",
    "count = 0\n",
    "total = 0\n",
    "excl = 0\n",
    "minimum = {\"Date\": \"\", \"amount\":9999999}\n",
    "maximum = {\"Date\":\"\", \"amount\":0}\n",
    "\n",
    "profits = 0\n",
    "#Date = [month, year]\n",
    "total_number_of_months = len(budget_data_csv)\n",
    "#print(total_number_of_months)\n",
    "#budget_data_csv.head()"
   ]
  },
  {
   "cell_type": "code",
   "execution_count": 25,
   "metadata": {},
   "outputs": [
    {
     "name": "stdout",
     "output_type": "stream",
     "text": [
      "116771 0\n",
      "379920 116771\n",
      "510239 379920\n",
      "693918 510239\n",
      "860159 693918\n",
      "1033048 860159\n",
      "1926159 1033048\n"
     ]
    }
   ],
   "source": [
    "#The net total amount of Profits/Losses over the entire period.\n",
    "with open(file_path, 'r') as file:\n",
    "    reader = csv.reader(file)\n",
    "    header =  next(reader)\n",
    "    first_month = next(reader)\n",
    "    \n",
    "    total_net = int(first_month[1])\n",
    "    prev_net = int(first_month[1])\n",
    "    total_net_list = []\n",
    "    \n",
    "    for row in reader:\n",
    "        total_net = int(row[1]) - prev_net;\n",
    "        total_net_list.append(total_net)\n",
    "        prev_net = int(row[1])\n",
    "        date = row[0]\n",
    "\n",
    "        if total_net < minimum[\"amount\"]:\n",
    "            \n",
    "            minimum[\"amount\"] = total_net\n",
    "            minimum[\"Date\"] = date\n",
    "        if total_net > maximum[\"amount\"]:\n",
    "            print(total_net, maximum[\"amount\"])\n",
    "            maximum[\"amount\"] = total_net\n",
    "            maximum[\"Date\"] = row[0]\n",
    "            \n",
    "       \n",
    "        \n",
    "    \n",
    "net_avg = round(sum(total_net_list) / len(total_net_list))\n",
    "\n",
    " \n",
    "max_date = maximum[\"Date\"]\n",
    "max_amt = maximum[\"amount\"]\n",
    "    \n",
    "min_date = minimum[\"Date\"] \n",
    "min_amt = minimum[\"amount\"]"
   ]
  },
  {
   "cell_type": "code",
   "execution_count": null,
   "metadata": {},
   "outputs": [],
   "source": []
  },
  {
   "cell_type": "code",
   "execution_count": 26,
   "metadata": {},
   "outputs": [
    {
     "name": "stdout",
     "output_type": "stream",
     "text": [
      "Financial Analysis\n",
      "Total Number of Months: 86\n",
      "Average Change: $-2315.00\n",
      "The Greatest Increase in Profits: Feb-12 ($1926159)\n",
      "The Greatest Decrease in Profits: Sep-13 ($-2196167)\n"
     ]
    }
   ],
   "source": [
    "print(\"Financial Analysis\")\n",
    "print(f\"Total Number of Months: {total_number_of_months}\")\n",
    "print(f\"Average Change: ${net_avg:.2f}\")\n",
    "print(f\"The Greatest Increase in Profits: {max_date} (${max_amt})\")\n",
    "print(f\"The Greatest Decrease in Profits: {min_date} (${min_amt})\")"
   ]
  },
  {
   "cell_type": "code",
   "execution_count": null,
   "metadata": {},
   "outputs": [],
   "source": []
  },
  {
   "cell_type": "code",
   "execution_count": null,
   "metadata": {},
   "outputs": [],
   "source": []
  }
 ],
 "metadata": {
  "kernelspec": {
   "display_name": "Python 3",
   "language": "python",
   "name": "python3"
  },
  "language_info": {
   "codemirror_mode": {
    "name": "ipython",
    "version": 3
   },
   "file_extension": ".py",
   "mimetype": "text/x-python",
   "name": "python",
   "nbconvert_exporter": "python",
   "pygments_lexer": "ipython3",
   "version": "3.7.6"
  }
 },
 "nbformat": 4,
 "nbformat_minor": 4
}
