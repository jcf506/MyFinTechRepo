{
 "cells": [
  {
   "cell_type": "code",
   "execution_count": 2,
   "metadata": {},
   "outputs": [
    {
     "name": "stdout",
     "output_type": "stream",
     "text": [
      "C:\\Users\\User\\source\\FinTech\\MyFinTechRepo\\02-Python\\Homework\\Instructions\\PyBank\n"
     ]
    }
   ],
   "source": [
    "import os\n",
    "path =os.getcwd()\n",
    "print(path)\n",
    "\n",
    "\n",
    "\n"
   ]
  },
  {
   "cell_type": "code",
   "execution_count": 3,
   "metadata": {},
   "outputs": [],
   "source": [
    "import pandas as pd \n",
    "from pathlib import Path\n",
    "import csv\n",
    "\n"
   ]
  },
  {
   "cell_type": "code",
   "execution_count": 4,
   "metadata": {},
   "outputs": [],
   "source": [
    "file_path = Path('Resources/budget_data.csv')\n"
   ]
  },
  {
   "cell_type": "code",
   "execution_count": 6,
   "metadata": {},
   "outputs": [],
   "source": [
    "\n",
    "budget_data_csv = pd.read_csv('Resources/budget_data.csv')\n"
   ]
  },
  {
   "cell_type": "code",
   "execution_count": 11,
   "metadata": {},
   "outputs": [],
   "source": [
    "#The total number of months in the Data set\n",
    "count = 0\n",
    "total = 0\n",
    "excl = 0\n",
    "minimum = 0\n",
    "maximum = 0\n",
    "#Date = [month, year]\n",
    "total_number_of_months = len(budget_data_csv)\n",
    "#print(total_number_of_months)\n",
    "#budget_data_csv.head()"
   ]
  },
  {
   "cell_type": "code",
   "execution_count": 26,
   "metadata": {},
   "outputs": [
    {
     "data": {
      "text/plain": [
       "-2315"
      ]
     },
     "execution_count": 26,
     "metadata": {},
     "output_type": "execute_result"
    }
   ],
   "source": [
    "#The net total amount of Profits/Losses over the entire period.\n",
    "with open(file_path, 'r') as file:\n",
    "    reader = csv.reader(file)\n",
    "    header =  next(reader)\n",
    "    first_month = next(reader)\n",
    "    \n",
    "    total_net = int(first_month[1])\n",
    "    prev_net = int(first_month[1])\n",
    "    total_net_list = []\n",
    "    \n",
    "    for row in reader:\n",
    "        total_net = int(row[1]) - prev_net;\n",
    "        total_net_list.append(total_net)\n",
    "        prev_net = int(row[1])\n",
    "        \n",
    "        \n",
    "    \n",
    "net_avg = round(sum(total_net_list) / len(total_net_list))\n",
    "net_avg        \n",
    "    \n",
    " \n",
    "    \n",
    "    \n",
    "    "
   ]
  },
  {
   "cell_type": "code",
   "execution_count": 5,
   "metadata": {},
   "outputs": [],
   "source": [
    "\n"
   ]
  },
  {
   "cell_type": "code",
   "execution_count": 8,
   "metadata": {},
   "outputs": [],
   "source": [
    "#The greatest increase in profits(date and amount) over the entire period.\n",
    "if maximum == 0:\n",
    "    maximum = greatest_increase\n",
    "    elif greatest_increase > maximum\n",
    "    maximum = greatest_increase"
   ]
  },
  {
   "cell_type": "code",
   "execution_count": 38,
   "metadata": {},
   "outputs": [
    {
     "ename": "SyntaxError",
     "evalue": "invalid syntax (<ipython-input-38-75f9b37b8db6>, line 2)",
     "output_type": "error",
     "traceback": [
      "\u001b[1;36m  File \u001b[1;32m\"<ipython-input-38-75f9b37b8db6>\"\u001b[1;36m, line \u001b[1;32m2\u001b[0m\n\u001b[1;33m    Print(\"The greatest decrease in lossses\" = iloc[date=(month, day), profit_change=max(-1)]).len()\u001b[0m\n\u001b[1;37m                                                        ^\u001b[0m\n\u001b[1;31mSyntaxError\u001b[0m\u001b[1;31m:\u001b[0m invalid syntax\n"
     ]
    }
   ],
   "source": [
    "#The greatest decrease in losses(date and amount) over the entire period.\n",
    "greatest_decrease = \n",
    "if minimum == 0:\n",
    "    minimum = greatest decrease\n",
    "    elif greatest_decrease < minimum:\n",
    "    minimum = greatest_decrease\n",
    "    \n",
    "    "
   ]
  },
  {
   "cell_type": "code",
   "execution_count": null,
   "metadata": {},
   "outputs": [],
   "source": [
    "Print(\"Financial Analysis\")\n",
    "Print(f\"Total Number of Months: {total_number_of_months}\")\n",
    "Print(f\"Average Change: {net_avg}\")\n",
    "Print(f\"The Greatest Increase in Profits: ${greatest_increase}\")\n",
    "Print(f\"The Greatest Decrease in Profits: ${greatest_decrease}\")"
   ]
  }
 ],
 "metadata": {
  "kernelspec": {
   "display_name": "Python 3",
   "language": "python",
   "name": "python3"
  },
  "language_info": {
   "codemirror_mode": {
    "name": "ipython",
    "version": 3
   },
   "file_extension": ".py",
   "mimetype": "text/x-python",
   "name": "python",
   "nbconvert_exporter": "python",
   "pygments_lexer": "ipython3",
   "version": "3.7.6"
  }
 },
 "nbformat": 4,
 "nbformat_minor": 4
}
