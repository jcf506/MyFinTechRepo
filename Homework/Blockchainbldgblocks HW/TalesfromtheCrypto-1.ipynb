./geth account new --datadir hotmild
./geth account new --datadir spicy

./puppeth
<networkname> dogfu
Create new Genesis   2,1,1,acccount,yes,enter
Export Genesis       2,2,enter
    
./geth init networkname.json --datadir node1

./geth init dogfather.json --datadir hotmild

./geth init networkname.json --datadir node2

./geth init dogfather.json --datadir spicy


./geth --datadir hotmild --mine --minerthreads 1 --unlock "0xDaDc4c81315D81f733Bf06465bb17Af8c89BD60D" --rpc --allow-insecure-unlock


./geth --datadir spicy --port 30304 --unlock "63C2aC6854F65F214ad47f64F55F128804ED3F48" --bootnodes "enode://d4e019e024a798bded4f815fc69de4b53579f2c47576703e42229664c61171b20d7703f52fec9545eab039b5f34d4bfaae432d3ee6f079bd3089183bc01eb5f6@127.0.0.1:30303" --ipcdisable --password "worx whell"
