./geth account new --datadir hotmild
pw:  worx4good
hotmild\keystore\UTC--2020-08-17T00-12-27.231676500Z--0d16bc198eb12063802110bdedf58cc843c3f2fa
./geth account new --datadir spicy
pw:  worx2well 
spicy\keystore\UTC--2020-08-17T00-16-35.450237200Z--ea016683aefe43b40af9873fe65758f27b6938c2
./puppeth
<networkname> 2
Create 
new Genesis   2,1,1,acccount,yes,enter

Export Genesis       2,2,enter
    
./geth init networkname.json --datadir node1

./geth init dogfather.json --datadir hotmild

./geth init networkname.json --datadir node2

./geth init dogfather.json --datadir spicy


./geth --datadir hotmild --mine --minerthreads 1 --unlock "0x3A0E689b56147188a664c15bC7f9d58936b1091c" --rpc --allow-insecure-unlock --password password.txt


./geth --datadir spicy --port 30304 --unlock "0x932D4c3a8f1ba7b0910616eD50788F70263c9BA7" --bootnodes "enode://2108f849d8da7648e19ebd4272b08cdfd520f1ec5acec3c2b766896068131bfb974b688673e81da43fbc04a02dc420ab26c04b6cb5c7dd00c8a1cb345969feb7@127.0.0.1:30303" --ipcdisable --password password2.txt